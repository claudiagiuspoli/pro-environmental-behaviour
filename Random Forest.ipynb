{
 "cells": [
  {
   "cell_type": "markdown",
   "metadata": {},
   "source": [
    "#### Import Data and Libraries\n",
    "\n",
    "In this section I create 3 datasets: \n",
    "1. Complete Dataset with all data\n",
    "2. Data of individuals who have a high Climate Change Risk Perception (q2 >= 6) \n",
    "2. Data of individuals who have Low Climate Change Risk Perception (q2 <= 5) \n",
    "\n",
    "With all datasets I will predict pro-environmental behaviour (qb5). "
   ]
  },
  {
   "cell_type": "code",
   "execution_count": 1,
   "metadata": {},
   "outputs": [
    {
     "data": {
      "text/html": [
       "<div>\n",
       "<style scoped>\n",
       "    .dataframe tbody tr th:only-of-type {\n",
       "        vertical-align: middle;\n",
       "    }\n",
       "\n",
       "    .dataframe tbody tr th {\n",
       "        vertical-align: top;\n",
       "    }\n",
       "\n",
       "    .dataframe thead th {\n",
       "        text-align: right;\n",
       "    }\n",
       "</style>\n",
       "<table border=\"1\" class=\"dataframe\">\n",
       "  <thead>\n",
       "    <tr style=\"text-align: right;\">\n",
       "      <th></th>\n",
       "      <th>qb2</th>\n",
       "      <th>qb5</th>\n",
       "      <th>qb4_3</th>\n",
       "      <th>qb4_5</th>\n",
       "      <th>qb7</th>\n",
       "      <th>qb8</th>\n",
       "      <th>qb9</th>\n",
       "      <th>d1</th>\n",
       "      <th>d10</th>\n",
       "      <th>d11</th>\n",
       "      <th>d25</th>\n",
       "      <th>d8</th>\n",
       "      <th>d63</th>\n",
       "      <th>d7</th>\n",
       "      <th>country</th>\n",
       "      <th>cca</th>\n",
       "      <th>cluster</th>\n",
       "    </tr>\n",
       "  </thead>\n",
       "  <tbody>\n",
       "    <tr>\n",
       "      <th>0</th>\n",
       "      <td>4</td>\n",
       "      <td>0</td>\n",
       "      <td>2</td>\n",
       "      <td>2</td>\n",
       "      <td>2</td>\n",
       "      <td>2</td>\n",
       "      <td>2</td>\n",
       "      <td>Centre-left</td>\n",
       "      <td>Man</td>\n",
       "      <td>20</td>\n",
       "      <td>Large town</td>\n",
       "      <td>Still studying</td>\n",
       "      <td>The middle class of society</td>\n",
       "      <td>Single</td>\n",
       "      <td>Belgium</td>\n",
       "      <td>1</td>\n",
       "      <td>1</td>\n",
       "    </tr>\n",
       "    <tr>\n",
       "      <th>1</th>\n",
       "      <td>5</td>\n",
       "      <td>0</td>\n",
       "      <td>2</td>\n",
       "      <td>2</td>\n",
       "      <td>2</td>\n",
       "      <td>2</td>\n",
       "      <td>2</td>\n",
       "      <td>Centre-left</td>\n",
       "      <td>Man</td>\n",
       "      <td>55</td>\n",
       "      <td>Large town</td>\n",
       "      <td>Refusal/dk</td>\n",
       "      <td>The middle class of society</td>\n",
       "      <td>Partner and children</td>\n",
       "      <td>Belgium</td>\n",
       "      <td>1</td>\n",
       "      <td>1</td>\n",
       "    </tr>\n",
       "    <tr>\n",
       "      <th>2</th>\n",
       "      <td>6</td>\n",
       "      <td>0</td>\n",
       "      <td>2</td>\n",
       "      <td>2</td>\n",
       "      <td>2</td>\n",
       "      <td>1</td>\n",
       "      <td>1</td>\n",
       "      <td>Centre-left</td>\n",
       "      <td>Man</td>\n",
       "      <td>80</td>\n",
       "      <td>Large town</td>\n",
       "      <td>Refusal/dk</td>\n",
       "      <td>The lower middle class of society</td>\n",
       "      <td>Single</td>\n",
       "      <td>Belgium</td>\n",
       "      <td>2</td>\n",
       "      <td>1</td>\n",
       "    </tr>\n",
       "    <tr>\n",
       "      <th>3</th>\n",
       "      <td>6</td>\n",
       "      <td>1</td>\n",
       "      <td>2</td>\n",
       "      <td>2</td>\n",
       "      <td>2</td>\n",
       "      <td>2</td>\n",
       "      <td>2</td>\n",
       "      <td>Centre</td>\n",
       "      <td>Man</td>\n",
       "      <td>40</td>\n",
       "      <td>Large town</td>\n",
       "      <td>Refusal/dk</td>\n",
       "      <td>The lower middle class of society</td>\n",
       "      <td>Partner and children</td>\n",
       "      <td>Belgium</td>\n",
       "      <td>1</td>\n",
       "      <td>1</td>\n",
       "    </tr>\n",
       "    <tr>\n",
       "      <th>4</th>\n",
       "      <td>5</td>\n",
       "      <td>1</td>\n",
       "      <td>3</td>\n",
       "      <td>3</td>\n",
       "      <td>2</td>\n",
       "      <td>3</td>\n",
       "      <td>2</td>\n",
       "      <td>Centre</td>\n",
       "      <td>Man</td>\n",
       "      <td>55</td>\n",
       "      <td>Large town</td>\n",
       "      <td>Refusal/dk</td>\n",
       "      <td>The middle class of society</td>\n",
       "      <td>Partner and children</td>\n",
       "      <td>Belgium</td>\n",
       "      <td>2</td>\n",
       "      <td>1</td>\n",
       "    </tr>\n",
       "  </tbody>\n",
       "</table>\n",
       "</div>"
      ],
      "text/plain": [
       "   qb2  qb5  qb4_3  qb4_5  qb7  qb8  qb9           d1  d10  d11         d25  \\\n",
       "0    4    0      2      2    2    2    2  Centre-left  Man   20  Large town   \n",
       "1    5    0      2      2    2    2    2  Centre-left  Man   55  Large town   \n",
       "2    6    0      2      2    2    1    1  Centre-left  Man   80  Large town   \n",
       "3    6    1      2      2    2    2    2       Centre  Man   40  Large town   \n",
       "4    5    1      3      3    2    3    2       Centre  Man   55  Large town   \n",
       "\n",
       "               d8                                d63                    d7  \\\n",
       "0  Still studying        The middle class of society                Single   \n",
       "1      Refusal/dk        The middle class of society  Partner and children   \n",
       "2      Refusal/dk  The lower middle class of society                Single   \n",
       "3      Refusal/dk  The lower middle class of society  Partner and children   \n",
       "4      Refusal/dk        The middle class of society  Partner and children   \n",
       "\n",
       "   country  cca  cluster  \n",
       "0  Belgium    1        1  \n",
       "1  Belgium    1        1  \n",
       "2  Belgium    2        1  \n",
       "3  Belgium    1        1  \n",
       "4  Belgium    2        1  "
      ]
     },
     "execution_count": 1,
     "metadata": {},
     "output_type": "execute_result"
    }
   ],
   "source": [
    "# Import Data \n",
    "import numpy as np\n",
    "import pandas as pd\n",
    "from sklearn.metrics import classification_report\n",
    "from sklearn.preprocessing import OneHotEncoder\n",
    "from sklearn.compose import make_column_transformer\n",
    "from sklearn.metrics import accuracy_score, confusion_matrix, precision_score, recall_score, roc_auc_score, roc_curve, f1_score\n",
    "import seaborn as sns\n",
    "from matplotlib import pyplot as plt\n",
    "from sklearn import metrics\n",
    "from sklearn.ensemble import RandomForestClassifier\n",
    "from sklearn.pipeline import make_pipeline\n",
    "from sklearn.utils.class_weight import compute_class_weight\n",
    "from sklearn.model_selection import train_test_split\n",
    "from sklearn.model_selection import RandomizedSearchCV\n",
    "from sklearn.metrics import log_loss\n",
    "\n",
    "df = pd.read_csv('df-climatechange.csv')\n",
    "df = df.drop(['qb1a','Unnamed: 0','Unnamed: 0.1'], axis = 1)\n",
    "df['qb5'] = df['qb5'].replace({'No': 0, 'Yes':1})\n",
    "\n",
    "df1 = df[df.qb2 >= 6]\n",
    "df2 = df[df.qb2 <= 5]\n",
    "#pd.set_option('display.max_columns', None)\n",
    "df.head()"
   ]
  },
  {
   "cell_type": "code",
   "execution_count": 15,
   "metadata": {},
   "outputs": [
    {
     "data": {
      "text/plain": [
       "21978"
      ]
     },
     "execution_count": 15,
     "metadata": {},
     "output_type": "execute_result"
    }
   ],
   "source": [
    "len(df)"
   ]
  },
  {
   "cell_type": "markdown",
   "metadata": {},
   "source": [
    "#### Set parameters Random Search"
   ]
  },
  {
   "cell_type": "code",
   "execution_count": 2,
   "metadata": {},
   "outputs": [
    {
     "data": {
      "text/plain": [
       "{'n_estimators': [50, 120, 190, 260, 330, 400],\n",
       " 'max_depth': [5, 8, 15, 25, 30, None],\n",
       " 'min_samples_split': [2, 5, 10, 15, 100],\n",
       " 'min_samples_leaf': [1, 2, 5, 10],\n",
       " 'max_features': ['auto', 'sqrt', 'log2'],\n",
       " 'bootstrap': [True, False]}"
      ]
     },
     "execution_count": 2,
     "metadata": {},
     "output_type": "execute_result"
    }
   ],
   "source": [
    "\n",
    "#parameter for random search \n",
    "\n",
    "n_estimators = [int(x) for x in np.linspace(start = 50, stop = 400, num = 6)]\n",
    "max_depth = [5, 8, 15, 25, 30, None]\n",
    "min_samples_split = [2, 5, 10, 15, 100]\n",
    "min_samples_leaf = [1, 2, 5, 10] \n",
    "max_features = [\"auto\", \"sqrt\", \"log2\"]\n",
    "bootstrap =   [True, False]\n",
    "\n",
    "param_grid = dict(n_estimators = n_estimators, max_depth = max_depth,  \n",
    "              min_samples_split = min_samples_split, \n",
    "             min_samples_leaf = min_samples_leaf, \n",
    "                 max_features = max_features,\n",
    "                 bootstrap = bootstrap)\n",
    "param_grid"
   ]
  },
  {
   "cell_type": "markdown",
   "metadata": {},
   "source": [
    "### Complete Dataset\n",
    "\n",
    "In this part there is the complete dataset. I will predict pro-environmental behaviour (qb5). The predictors are: climate change risk perception, clusters and correlational class analysis of other questions about climate change, socio-demograpich variables. "
   ]
  },
  {
   "cell_type": "code",
   "execution_count": 3,
   "metadata": {},
   "outputs": [],
   "source": [
    "cc_num = df[['qb5', 'qb2' , 'd1', 'd10','d11', 'country','d8','d25', 'd63','d7','cluster', 'cca']]\n",
    "cat_var =['d1','d10', 'country','d8','d25', 'd63','d7','cluster', 'cca']\n",
    "\n",
    "df_get_dummies = pd.get_dummies(  cc_num , columns = cat_var)\n"
   ]
  },
  {
   "cell_type": "markdown",
   "metadata": {},
   "source": [
    "#### Split the data into X and y and create training and validating set"
   ]
  },
  {
   "cell_type": "code",
   "execution_count": 4,
   "metadata": {},
   "outputs": [],
   "source": [
    "seed = 101\n",
    "\n",
    "X = df_get_dummies.drop('qb5',axis=1)\n",
    "y = df_get_dummies.loc[:, df_get_dummies.columns == 'qb5']\n",
    "X_train, X_test, y_train, y_test = train_test_split(X,y,test_size=0.30, random_state = seed,stratify=y)"
   ]
  },
  {
   "cell_type": "code",
   "execution_count": 5,
   "metadata": {},
   "outputs": [
    {
     "data": {
      "text/plain": [
       "(21978, 65)"
      ]
     },
     "execution_count": 5,
     "metadata": {},
     "output_type": "execute_result"
    }
   ],
   "source": [
    "X.shape"
   ]
  },
  {
   "cell_type": "code",
   "execution_count": 6,
   "metadata": {},
   "outputs": [
    {
     "data": {
      "text/plain": [
       "qb5\n",
       "0     7651\n",
       "1    14327\n",
       "Name: qb5, dtype: int64"
      ]
     },
     "execution_count": 6,
     "metadata": {},
     "output_type": "execute_result"
    }
   ],
   "source": [
    "c = df.groupby('qb5')['qb5'].count()\n",
    "c #unbalanced"
   ]
  },
  {
   "cell_type": "code",
   "execution_count": 7,
   "metadata": {},
   "outputs": [
    {
     "data": {
      "text/plain": [
       "array([1.43641457, 0.76697577])"
      ]
     },
     "execution_count": 7,
     "metadata": {},
     "output_type": "execute_result"
    }
   ],
   "source": [
    "class_weights = compute_class_weight('balanced', classes = np.unique(y_train), y = np.ravel(y_train))\n",
    "class_weights"
   ]
  },
  {
   "cell_type": "markdown",
   "metadata": {},
   "source": [
    "#### Random search\n",
    "Random search is a tuning technique that attempts to compute the best values of hyperparameters."
   ]
  },
  {
   "cell_type": "code",
   "execution_count": 8,
   "metadata": {},
   "outputs": [
    {
     "data": {
      "text/plain": [
       "RandomizedSearchCV(cv=3,\n",
       "                   estimator=RandomForestClassifier(class_weight={0: 1.43631197,\n",
       "                                                                  1: 0.76700502}),\n",
       "                   n_jobs=-1,\n",
       "                   param_distributions={'bootstrap': [True, False],\n",
       "                                        'max_depth': [5, 8, 15, 25, 30, None],\n",
       "                                        'max_features': ['auto', 'sqrt',\n",
       "                                                         'log2'],\n",
       "                                        'min_samples_leaf': [1, 2, 5, 10],\n",
       "                                        'min_samples_split': [2, 5, 10, 15,\n",
       "                                                              100],\n",
       "                                        'n_estimators': [50, 120, 190, 260, 330,\n",
       "                                                         400]},\n",
       "                   random_state=101)"
      ]
     },
     "execution_count": 8,
     "metadata": {},
     "output_type": "execute_result"
    }
   ],
   "source": [
    "rf = RandomForestClassifier( class_weight={0: 1.43631197 , 1:0.76700502})\n",
    "# Random search of parameters, using 3 fold cross validation, \n",
    "rf_classifier = RandomizedSearchCV(rf, param_grid, cv = 3, \n",
    "                  \n",
    "                                   n_jobs = -1, random_state = seed)\n",
    "\n",
    "\n",
    "rf_classifier.fit(X_train, y_train.values.ravel())"
   ]
  },
  {
   "cell_type": "code",
   "execution_count": 10,
   "metadata": {},
   "outputs": [
    {
     "name": "stdout",
     "output_type": "stream",
     "text": [
      "{'n_estimators': 400, 'min_samples_split': 5, 'min_samples_leaf': 2, 'max_features': 'log2', 'max_depth': 25, 'bootstrap': True}\n",
      "RandomForestClassifier(class_weight={0: 1.43631197, 1: 0.76700502},\n",
      "                       max_depth=25, max_features='log2', min_samples_leaf=2,\n",
      "                       min_samples_split=5, n_estimators=400)\n"
     ]
    }
   ],
   "source": [
    "print(rf_classifier.best_params_)\n",
    "print(rf_classifier.best_estimator_)"
   ]
  },
  {
   "cell_type": "markdown",
   "metadata": {},
   "source": [
    "#### Confusion Matrix"
   ]
  },
  {
   "cell_type": "code",
   "execution_count": 11,
   "metadata": {},
   "outputs": [
    {
     "data": {
      "text/plain": [
       "Text(0.5, 19.5, 'Predicted label')"
      ]
     },
     "execution_count": 11,
     "metadata": {},
     "output_type": "execute_result"
    },
    {
     "data": {
      "image/png": "[encoded data removed]",
      "text/plain": [
       "<Figure size 396x324 with 2 Axes>"
      ]
     },
     "metadata": {
      "needs_background": "light"
     },
     "output_type": "display_data"
    }
   ],
   "source": [
    "y_pred = rf_classifier.best_estimator_.predict(X_test)\n",
    "\n",
    "ac = accuracy_score(y_test,rf_classifier.best_estimator_.predict(X_test))\n",
    "#print('Accuracy is: ',ac)\n",
    "\n",
    "plt.figure(figsize=(5.5,4.5))\n",
    "\n",
    "cm_df = confusion_matrix(y_test,rf_classifier.best_estimator_.predict(X_test))\n",
    "cm_df = pd.DataFrame(cm_df,\n",
    "                     index = ['No action','Yes Action'], \n",
    "                     columns = ['No action','Yes Action'])\n",
    "sns.heatmap(cm_df,annot=True,fmt=\"d\")\n",
    "plt.title('Random Forest \\nAccuracy:{0:.3f}'.format(accuracy_score(y_test, rf_classifier.best_estimator_.predict(X_test))))\n",
    "plt.ylabel('True label')\n",
    "plt.xlabel('Predicted label')\n",
    "#plt.savefig('rf_confusionmatrix.png')\n"
   ]
  },
  {
   "cell_type": "markdown",
   "metadata": {},
   "source": [
    "#### Feature importance"
   ]
  },
  {
   "cell_type": "code",
   "execution_count": 14,
   "metadata": {},
   "outputs": [
    {
     "data": {
      "image/png": "[encoded data removed]",
      "text/plain": [
       "<Figure size 432x576 with 1 Axes>"
      ]
     },
     "metadata": {
      "needs_background": "light"
     },
     "output_type": "display_data"
    }
   ],
   "source": [
    "feature_importances = list(zip(X_train, rf_classifier.best_estimator_.feature_importances_))\n",
    "# Then sort the feature importances by most important first\n",
    "feature_importances_ranked = sorted(feature_importances, key = lambda x: x[1], reverse = True)\n",
    "feature_names_20 = [i[0] for i in feature_importances_ranked[:20]]\n",
    "y_ticks = np.arange(0, len(feature_names_20))\n",
    "x_axis = [i[1] for i in feature_importances_ranked[:20]]\n",
    "plt.figure(figsize = (6, 8))\n",
    "\n",
    "plt.barh(feature_names_20, x_axis, color = 'g')   #horizontal barplot\n",
    "plt.title('Random Forest \\n Feature Importance  (Top 20)',\n",
    "          fontdict= {'fontsize' : 18})\n",
    "plt.show()"
   ]
  },
  {
   "cell_type": "code",
   "execution_count": 26,
   "metadata": {},
   "outputs": [],
   "source": [
    "imp = pd.read_csv('imp.csv')\n",
    "imp  = imp.sort_values('variable', ascending=True).reset_index(drop=True)\n",
    "\n",
    "dt = pd.DataFrame(feature_importances)\n",
    "dt.rename(columns={ dt.columns[0]: \"variable\" }, inplace = True)\n",
    "\n",
    "dt  = dt.sort_values('variable', ascending=True).reset_index(drop=True)\n",
    "\n",
    "final = pd.merge(imp, dt, left_index=True, right_index=True)\n",
    "\n",
    "final.rename(columns={ final.columns[4]: \"importance_rf\" }, inplace = True)\n",
    "final.rename(columns={ final.columns[0]: \"variable\" }, inplace = True)\n",
    "final = final.drop('variable_y', axis = 1)\n",
    "\n",
    "\n",
    "final.to_csv('imp.csv', index=False, encoding='utf-8')\n"
   ]
  },
  {
   "cell_type": "code",
   "execution_count": 27,
   "metadata": {},
   "outputs": [
    {
     "name": "stdout",
     "output_type": "stream",
     "text": [
      "              precision    recall  f1-score   support\n",
      "\n",
      "           0       0.56      0.55      0.56      2296\n",
      "           1       0.76      0.77      0.77      4298\n",
      "\n",
      "    accuracy                           0.70      6594\n",
      "   macro avg       0.66      0.66      0.66      6594\n",
      "weighted avg       0.69      0.70      0.69      6594\n",
      "\n"
     ]
    }
   ],
   "source": [
    "print(classification_report(y_test, rf_classifier.best_estimator_.predict(X_test)))"
   ]
  },
  {
   "cell_type": "markdown",
   "metadata": {},
   "source": [
    "#### ROC \n",
    "\n",
    "An ROC curve (receiver operating characteristic curve) is a graph showing the performance of a classification model at all classification thresholds."
   ]
  },
  {
   "cell_type": "code",
   "execution_count": 164,
   "metadata": {},
   "outputs": [
    {
     "name": "stdout",
     "output_type": "stream",
     "text": [
      "roc_auc_score for Random Forest - High Risk Perception:  0.7328906119530517\n"
     ]
    },
    {
     "data": {
      "image/png": "[encoded data removed]",
      "text/plain": [
       "<Figure size 720x720 with 1 Axes>"
      ]
     },
     "metadata": {
      "needs_background": "light"
     },
     "output_type": "display_data"
    }
   ],
   "source": [
    "y_score2 = rf_classifier.best_estimator_.predict_proba(X_test)[:,1]\n",
    "false_positive_rate2, true_positive_rate2, threshold2 = roc_curve(y_test, y_score2)\n",
    "print('roc_auc_score for Random Forest - High Risk Perception: ', roc_auc_score(y_test, y_score2))\n",
    "plt.subplots(1, figsize=(10,10))\n",
    "plt.title('Receiver Operating Characteristic - Random Forest - High Risk Perception')\n",
    "plt.plot(false_positive_rate2, true_positive_rate2)\n",
    "plt.plot([0, 1], ls=\"--\")\n",
    "plt.plot([0, 0], [1, 0] , c=\".7\"), plt.plot([1, 1] , c=\".7\")\n",
    "plt.ylabel('True Positive Rate')\n",
    "plt.xlabel('False Positive Rate')\n",
    "plt.show()"
   ]
  },
  {
   "cell_type": "markdown",
   "metadata": {},
   "source": [
    "### High Risk Perception\n",
    "\n",
    "In this part there is data of individuals who have a high Climate Change Risk Perception (q2 >= 6).\n",
    "I will predict pro-environmental behaviour (qb5). The predictors are: clusters and correlational class analysis of other questions about climate change, socio-demograpich variables. \n",
    "\n",
    "\n",
    "\n",
    "I repeate the same codes"
   ]
  },
  {
   "cell_type": "code",
   "execution_count": 15,
   "metadata": {},
   "outputs": [],
   "source": [
    "cc_num = df1[['qb5', 'd1', 'd10','d11', 'country','d8','d25', 'd63','d7','cluster', 'cca']]\n",
    "cat_var =['d1','d10', 'country','d8','d25', 'd63','d7','cluster', 'cca']\n",
    "df_get_dummies = pd.get_dummies(  cc_num , columns = cat_var)\n",
    "\n",
    "X = df_get_dummies.drop('qb5',axis=1)\n",
    "y = df_get_dummies.loc[:, df_get_dummies.columns == 'qb5']\n",
    "seed = 456  # so that the result is reproducible\n",
    "X_train, X_test, y_train, y_test = train_test_split(X,y,test_size=0.30, random_state = seed,stratify=y)"
   ]
  },
  {
   "cell_type": "code",
   "execution_count": 16,
   "metadata": {},
   "outputs": [
    {
     "data": {
      "text/plain": [
       "qb5\n",
       "0    1825\n",
       "1    3897\n",
       "Name: qb5, dtype: int64"
      ]
     },
     "execution_count": 16,
     "metadata": {},
     "output_type": "execute_result"
    }
   ],
   "source": [
    "c = y_test.groupby('qb5')['qb5'].count()\n",
    "c #unbalanced"
   ]
  },
  {
   "cell_type": "code",
   "execution_count": 17,
   "metadata": {},
   "outputs": [
    {
     "data": {
      "text/plain": [
       "array([1.56726931, 0.73424266])"
      ]
     },
     "execution_count": 17,
     "metadata": {},
     "output_type": "execute_result"
    }
   ],
   "source": [
    "class_weights = compute_class_weight('balanced', classes = np.unique(y_train), y = np.ravel(y_train))\n",
    "class_weights"
   ]
  },
  {
   "cell_type": "code",
   "execution_count": 18,
   "metadata": {},
   "outputs": [
    {
     "data": {
      "text/plain": [
       "RandomizedSearchCV(cv=3,\n",
       "                   estimator=RandomForestClassifier(class_weight={0: 1.56739773,\n",
       "                                                                  1: 0.73421448}),\n",
       "                   n_jobs=-1,\n",
       "                   param_distributions={'bootstrap': [True, False],\n",
       "                                        'max_depth': [5, 8, 15, 25, 30, None],\n",
       "                                        'max_features': ['auto', 'sqrt',\n",
       "                                                         'log2'],\n",
       "                                        'min_samples_leaf': [1, 2, 5, 10],\n",
       "                                        'min_samples_split': [2, 5, 10, 15,\n",
       "                                                              100],\n",
       "                                        'n_estimators': [50, 120, 190, 260, 330,\n",
       "                                                         400]},\n",
       "                   random_state=456, scoring='f1')"
      ]
     },
     "execution_count": 18,
     "metadata": {},
     "output_type": "execute_result"
    }
   ],
   "source": [
    "# Use the random grid to search for best hyperparameters\n",
    "# First create the base model to tune\n",
    "rf = RandomForestClassifier(class_weight= {0: 1.56739773 , 1:0.73421448})\n",
    "# Random search of parameters, using 3 fold cross validation, \n",
    "rf_classifier = RandomizedSearchCV(rf, param_grid, cv = 3, \n",
    "                  \n",
    "                                   n_jobs = -1,random_state = seed, scoring='f1')\n",
    "\n",
    "\n",
    "# Fit the random search model\n",
    "rf_classifier.fit(X_train, y_train.values.ravel())"
   ]
  },
  {
   "cell_type": "code",
   "execution_count": 19,
   "metadata": {},
   "outputs": [
    {
     "name": "stdout",
     "output_type": "stream",
     "text": [
      "{'n_estimators': 400, 'min_samples_split': 2, 'min_samples_leaf': 1, 'max_features': 'auto', 'max_depth': 30, 'bootstrap': True}\n",
      "RandomForestClassifier(class_weight={0: 1.56739773, 1: 0.73421448},\n",
      "                       max_depth=30, n_estimators=400)\n"
     ]
    }
   ],
   "source": [
    "print(rf_classifier.best_params_)\n",
    "print(rf_classifier.best_estimator_)\n"
   ]
  },
  {
   "cell_type": "code",
   "execution_count": 20,
   "metadata": {},
   "outputs": [
    {
     "data": {
      "text/plain": [
       "Text(0.5, 19.5, 'Predicted label')"
      ]
     },
     "execution_count": 20,
     "metadata": {},
     "output_type": "execute_result"
    },
    {
     "data": {
      "image/png": "[encoded data removed]",
      "text/plain": [
       "<Figure size 396x324 with 2 Axes>"
      ]
     },
     "metadata": {
      "needs_background": "light"
     },
     "output_type": "display_data"
    }
   ],
   "source": [
    "y_pred = rf_classifier.best_estimator_.predict(X_test)\n",
    "\n",
    "ac = accuracy_score(y_test,rf_classifier.best_estimator_.predict(X_test))\n",
    "\n",
    "plt.figure(figsize=(5.5,4.5))\n",
    "cm_df = confusion_matrix(y_test,rf_classifier.best_estimator_.predict(X_test))\n",
    "cm_df = pd.DataFrame(cm_df,\n",
    "                     index = ['No action','Yes action'], \n",
    "                     columns = ['No action','Yes action'])\n",
    "sns.heatmap(cm_df,annot=True,fmt=\"d\")\n",
    "plt.title('Random Forest - Subset with High-risk Perception Observations \\n Accuracy:{0:.3f}'.format(accuracy_score(y_test, rf_classifier.best_estimator_.predict(X_test))))\n",
    "plt.ylabel('True label')\n",
    "plt.xlabel('Predicted label')\n",
    "#plt.savefig('rf_confusionmatrix-df24.png')\n"
   ]
  },
  {
   "cell_type": "code",
   "execution_count": 21,
   "metadata": {},
   "outputs": [
    {
     "data": {
      "image/png": "[encoded data removed]",
      "text/plain": [
       "<Figure size 432x576 with 1 Axes>"
      ]
     },
     "metadata": {
      "needs_background": "light"
     },
     "output_type": "display_data"
    }
   ],
   "source": [
    "\n",
    "feature_importances = list(zip(X_train, rf_classifier.best_estimator_.feature_importances_))\n",
    "feature_importances_ranked = sorted(feature_importances, key = lambda x: x[1], reverse = True)\n",
    "\n",
    "feature_names_20 = [i[0] for i in feature_importances_ranked[:20]]\n",
    "y_ticks = np.arange(0, len(feature_names_20))\n",
    "x_axis = [i[1] for i in feature_importances_ranked[:20]]\n",
    "plt.figure(figsize = (6, 8))\n",
    "plt.barh(feature_names_20, x_axis, color = 'g')   #horizontal barplot\n",
    "#plt.title('Random Forest - Feature Importance (Top 20) \\n Subset with High-risk Perception Observations',\n",
    "#          fontdict= {'fontsize' : 18})\n",
    "plt.show()\n"
   ]
  },
  {
   "cell_type": "code",
   "execution_count": 103,
   "metadata": {},
   "outputs": [],
   "source": [
    "imp = pd.read_csv('imp2.csv')\n",
    "imp  = imp.sort_values('variable', ascending=True).reset_index(drop=True)\n",
    "dt = pd.DataFrame(feature_importances)\n",
    "dt.rename(columns={ dt.columns[0]: \"variable\" }, inplace = True)\n",
    "dt  = dt.sort_values('variable', ascending=True).reset_index(drop=True)\n",
    "final = pd.merge(imp, dt, left_index=True, right_index=True)\n",
    "\n",
    "final.rename(columns={ final.columns[4]: \"importance_rf\" }, inplace = True)\n",
    "final.rename(columns={ final.columns[0]: \"variable\" }, inplace = True)\n",
    "final = final.drop('variable_y', axis = 1)\n",
    "\n",
    "final.to_csv('imp2.csv', index=False, encoding='utf-8')"
   ]
  },
  {
   "cell_type": "code",
   "execution_count": 104,
   "metadata": {},
   "outputs": [
    {
     "name": "stdout",
     "output_type": "stream",
     "text": [
      "              precision    recall  f1-score   support\n",
      "\n",
      "           0       0.55      0.32      0.41      1825\n",
      "           1       0.73      0.87      0.80      3897\n",
      "\n",
      "    accuracy                           0.70      5722\n",
      "   macro avg       0.64      0.60      0.60      5722\n",
      "weighted avg       0.67      0.70      0.67      5722\n",
      "\n"
     ]
    }
   ],
   "source": [
    "print(classification_report(y_test, rf_classifier.best_estimator_.predict(X_test)))"
   ]
  },
  {
   "cell_type": "code",
   "execution_count": 84,
   "metadata": {},
   "outputs": [
    {
     "name": "stdout",
     "output_type": "stream",
     "text": [
      "roc_auc_score for Random Forest - High Risk Perception:  0.6926570140009349\n"
     ]
    },
    {
     "data": {
      "image/png": "[encoded data removed]",
      "text/plain": [
       "<Figure size 720x720 with 1 Axes>"
      ]
     },
     "metadata": {
      "needs_background": "light"
     },
     "output_type": "display_data"
    }
   ],
   "source": [
    "y_score2 = rf_classifier.best_estimator_.predict_proba(X_test)[:,1]\n",
    "false_positive_rate2, true_positive_rate2, threshold2 = roc_curve(y_test, y_score2)\n",
    "print('roc_auc_score for Random Forest - High Risk Perception: ', roc_auc_score(y_test, y_score2))\n",
    "plt.subplots(1, figsize=(10,10))\n",
    "plt.title('Receiver Operating Characteristic -Random Forest - Low Risk Perception')\n",
    "plt.plot(false_positive_rate2, true_positive_rate2)\n",
    "plt.plot([0, 1], ls=\"--\")\n",
    "plt.plot([0, 0], [1, 0] , c=\".7\"), plt.plot([1, 1] , c=\".7\")\n",
    "plt.ylabel('True Positive Rate')\n",
    "plt.xlabel('False Positive Rate')\n",
    "plt.show()"
   ]
  },
  {
   "cell_type": "markdown",
   "metadata": {},
   "source": [
    "### Low Risk Perception\n",
    "\n",
    "\n",
    "In this part there is data of individuals who have a low Climate Change Risk Perception (q2 <= 5).\n",
    "I will predict pro-environmental behaviour (qb5). The predictors are: clusters and correlational class analysis of other questions about climate change, socio-demograpich variables. \n",
    "\n",
    "\n",
    "\n",
    "I repeate the same codes\n"
   ]
  },
  {
   "cell_type": "code",
   "execution_count": 22,
   "metadata": {},
   "outputs": [],
   "source": [
    "\n",
    "cc_num = df2[['qb5', 'd1', 'd10','d11', 'country','d8','d25', 'd63','d7','cluster', 'cca']]\n",
    "\n",
    "cat_var =['d1','d10', 'country','d8','d25', 'd63','d7','cluster', 'cca']\n",
    "df_get_dummies = pd.get_dummies(  cc_num , columns = cat_var)\n",
    "\n",
    "\n",
    "\n",
    "X = df_get_dummies.drop('qb5',axis=1)\n",
    "y = df_get_dummies.loc[:, df_get_dummies.columns == 'qb5']\n",
    "X_train, X_test, y_train, y_test = train_test_split(X,y,test_size=0.30, random_state = seed,stratify=y)\n"
   ]
  },
  {
   "cell_type": "code",
   "execution_count": 23,
   "metadata": {},
   "outputs": [
    {
     "data": {
      "text/plain": [
       "qb5\n",
       "0    470\n",
       "1    402\n",
       "Name: qb5, dtype: int64"
      ]
     },
     "execution_count": 23,
     "metadata": {},
     "output_type": "execute_result"
    }
   ],
   "source": [
    "c = y_test.groupby('qb5')['qb5'].count()\n",
    "c #balanced"
   ]
  },
  {
   "cell_type": "code",
   "execution_count": 24,
   "metadata": {},
   "outputs": [
    {
     "name": "stdout",
     "output_type": "stream",
     "text": [
      "[0.92707384 1.08537887]\n"
     ]
    }
   ],
   "source": [
    "class_weights = compute_class_weight('balanced', classes = np.unique(y_train), y = np.ravel(y_train))\n",
    "\n",
    "\n",
    "print(class_weights)"
   ]
  },
  {
   "cell_type": "code",
   "execution_count": 25,
   "metadata": {},
   "outputs": [
    {
     "data": {
      "text/plain": [
       "RandomizedSearchCV(cv=3,\n",
       "                   estimator=RandomForestClassifier(class_weight={0: 0.9272727,\n",
       "                                                                  1: 1.08510638}),\n",
       "                   n_jobs=-1,\n",
       "                   param_distributions={'bootstrap': [True, False],\n",
       "                                        'max_depth': [5, 8, 15, 25, 30, None],\n",
       "                                        'max_features': ['auto', 'sqrt',\n",
       "                                                         'log2'],\n",
       "                                        'min_samples_leaf': [1, 2, 5, 10],\n",
       "                                        'min_samples_split': [2, 5, 10, 15,\n",
       "                                                              100],\n",
       "                                        'n_estimators': [50, 120, 190, 260, 330,\n",
       "                                                         400]},\n",
       "                   random_state=456, scoring='f1')"
      ]
     },
     "execution_count": 25,
     "metadata": {},
     "output_type": "execute_result"
    }
   ],
   "source": [
    "# Use the random grid to search for best hyperparameters\n",
    "# First create the base model to tune\n",
    "rf = RandomForestClassifier(class_weight= {0:0.9272727 , 1:1.08510638})\n",
    "\n",
    "# Random search of parameters, using 3 fold cross validation, \n",
    "# search across 100 different combinations, and use all available cores\n",
    "rf_classifier = RandomizedSearchCV(rf, param_grid, cv = 3, \n",
    "                  \n",
    "                                   n_jobs = -1,random_state = seed, scoring = 'f1')\n",
    "\n",
    "\n",
    "# Fit the random search model\n",
    "rf_classifier.fit(X_train, y_train.values.ravel())\n"
   ]
  },
  {
   "cell_type": "code",
   "execution_count": 26,
   "metadata": {},
   "outputs": [
    {
     "name": "stdout",
     "output_type": "stream",
     "text": [
      "{'n_estimators': 120, 'min_samples_split': 100, 'min_samples_leaf': 5, 'max_features': 'log2', 'max_depth': 25, 'bootstrap': False}\n",
      "RandomForestClassifier(bootstrap=False,\n",
      "                       class_weight={0: 0.9272727, 1: 1.08510638}, max_depth=25,\n",
      "                       max_features='log2', min_samples_leaf=5,\n",
      "                       min_samples_split=100, n_estimators=120)\n"
     ]
    }
   ],
   "source": [
    "print(rf_classifier.best_params_)\n",
    "print(rf_classifier.best_estimator_)"
   ]
  },
  {
   "cell_type": "code",
   "execution_count": 27,
   "metadata": {},
   "outputs": [
    {
     "data": {
      "text/plain": [
       "Text(0.5, 19.5, 'Predicted label')"
      ]
     },
     "execution_count": 27,
     "metadata": {},
     "output_type": "execute_result"
    },
    {
     "data": {
      "image/png": "[encoded data removed]",
      "text/plain": [
       "<Figure size 396x324 with 2 Axes>"
      ]
     },
     "metadata": {
      "needs_background": "light"
     },
     "output_type": "display_data"
    }
   ],
   "source": [
    "ac = accuracy_score(y_test,rf_classifier.best_estimator_.predict(X_test))\n",
    "\n",
    "plt.figure(figsize=(5.5,4.5))\n",
    "\n",
    "cm_df = confusion_matrix(y_test,rf_classifier.best_estimator_.predict(X_test))\n",
    "cm_df = pd.DataFrame(cm_df,\n",
    "                     index = ['no action','yes action '], \n",
    "                     columns =  ['no action','yes action'])\n",
    "sns.heatmap(cm_df,annot=True,fmt=\"d\")\n",
    "plt.title('Random Forest - Subset with Low-risk Perception Observations \\nAccuracy:{0:.3f}'.format(accuracy_score(y_test, rf_classifier.best_estimator_.predict(X_test))))\n",
    "plt.ylabel('True label')\n",
    "plt.xlabel('Predicted label')\n",
    "#plt.savefig('rf_confusionmatrix-df24.png')\n"
   ]
  },
  {
   "cell_type": "code",
   "execution_count": 28,
   "metadata": {},
   "outputs": [
    {
     "name": "stdout",
     "output_type": "stream",
     "text": [
      "              precision    recall  f1-score   support\n",
      "\n",
      "           0       0.65      0.65      0.65       470\n",
      "           1       0.59      0.59      0.59       402\n",
      "\n",
      "    accuracy                           0.62       872\n",
      "   macro avg       0.62      0.62      0.62       872\n",
      "weighted avg       0.63      0.62      0.63       872\n",
      "\n"
     ]
    }
   ],
   "source": [
    "print(classification_report(y_test, rf_classifier.best_estimator_.predict(X_test)))"
   ]
  },
  {
   "cell_type": "code",
   "execution_count": 112,
   "metadata": {},
   "outputs": [
    {
     "data": {
      "image/png": "[encoded data removed]",
      "text/plain": [
       "<Figure size 432x576 with 1 Axes>"
      ]
     },
     "metadata": {
      "needs_background": "light"
     },
     "output_type": "display_data"
    }
   ],
   "source": [
    "feature_importances = list(zip(X_train, rf_classifier.best_estimator_.feature_importances_))\n",
    "# Then sort the feature importances by most important first\n",
    "feature_importances_ranked = sorted(feature_importances, key = lambda x: x[1], reverse = True)\n",
    "feature_names_20 = [i[0] for i in feature_importances_ranked[:20]]\n",
    "y_ticks = np.arange(0, len(feature_names_20))\n",
    "x_axis = [i[1] for i in feature_importances_ranked[:20]]\n",
    "plt.figure(figsize = (6, 8))\n",
    "plt.barh(feature_names_20, x_axis, color = 'g')   #horizontal barplot\n",
    "#plt.title('Random Forest - Feature Importance (Top 20) \\n Subset with Low-risk Perception Observations',\n",
    "#          fontdict= {'fontsize' : 18})\n",
    "#plt.xlabel('Features',fontdict= {'fontsize' : 16})\n",
    "plt.show()"
   ]
  },
  {
   "cell_type": "code",
   "execution_count": 113,
   "metadata": {},
   "outputs": [],
   "source": [
    "imp = pd.read_csv('imp3.csv')\n",
    "imp  = imp.sort_values('variable', ascending=True).reset_index(drop=True)\n",
    "\n",
    "dt = pd.DataFrame(feature_importances)\n",
    "dt.rename(columns={ dt.columns[0]: \"variable\" }, inplace = True)\n",
    "\n",
    "dt  = dt.sort_values('variable', ascending=True).reset_index(drop=True)\n",
    "\n",
    "final = pd.merge(imp, dt, left_index=True, right_index=True)\n",
    "\n",
    "final.rename(columns={ final.columns[4]: \"importance_rf\" }, inplace = True)\n",
    "final.rename(columns={ final.columns[0]: \"variable\" }, inplace = True)\n",
    "final = final.drop('variable_y', axis = 1)\n",
    "\n",
    "\n",
    "final.to_csv('imp3.csv', index=False, encoding='utf-8')"
   ]
  },
  {
   "cell_type": "code",
   "execution_count": 43,
   "metadata": {},
   "outputs": [
    {
     "data": {
      "text/html": [
       "<div>\n",
       "<style scoped>\n",
       "    .dataframe tbody tr th:only-of-type {\n",
       "        vertical-align: middle;\n",
       "    }\n",
       "\n",
       "    .dataframe tbody tr th {\n",
       "        vertical-align: top;\n",
       "    }\n",
       "\n",
       "    .dataframe thead th {\n",
       "        text-align: right;\n",
       "    }\n",
       "</style>\n",
       "<table border=\"1\" class=\"dataframe\">\n",
       "  <thead>\n",
       "    <tr style=\"text-align: right;\">\n",
       "      <th></th>\n",
       "      <th>variable</th>\n",
       "      <th>importance_lg</th>\n",
       "      <th>importance_dt</th>\n",
       "      <th>importance_rf</th>\n",
       "      <th>importance_gb</th>\n",
       "    </tr>\n",
       "  </thead>\n",
       "  <tbody>\n",
       "    <tr>\n",
       "      <th>0</th>\n",
       "      <td>cca_1</td>\n",
       "      <td>0.017753</td>\n",
       "      <td>0.000000</td>\n",
       "      <td>0.017036</td>\n",
       "      <td>0.012917</td>\n",
       "    </tr>\n",
       "    <tr>\n",
       "      <th>1</th>\n",
       "      <td>cca_2</td>\n",
       "      <td>0.167401</td>\n",
       "      <td>0.000000</td>\n",
       "      <td>0.017164</td>\n",
       "      <td>0.014193</td>\n",
       "    </tr>\n",
       "    <tr>\n",
       "      <th>2</th>\n",
       "      <td>cca_3</td>\n",
       "      <td>0.398833</td>\n",
       "      <td>0.000000</td>\n",
       "      <td>0.019588</td>\n",
       "      <td>0.005926</td>\n",
       "    </tr>\n",
       "    <tr>\n",
       "      <th>3</th>\n",
       "      <td>cca_4</td>\n",
       "      <td>-0.405617</td>\n",
       "      <td>0.000000</td>\n",
       "      <td>0.015154</td>\n",
       "      <td>0.015988</td>\n",
       "    </tr>\n",
       "    <tr>\n",
       "      <th>4</th>\n",
       "      <td>cca_5</td>\n",
       "      <td>-0.561250</td>\n",
       "      <td>0.000000</td>\n",
       "      <td>0.013371</td>\n",
       "      <td>0.018173</td>\n",
       "    </tr>\n",
       "    <tr>\n",
       "      <th>5</th>\n",
       "      <td>cluster_1</td>\n",
       "      <td>-0.256186</td>\n",
       "      <td>0.426276</td>\n",
       "      <td>0.045347</td>\n",
       "      <td>0.038921</td>\n",
       "    </tr>\n",
       "    <tr>\n",
       "      <th>6</th>\n",
       "      <td>cluster_2</td>\n",
       "      <td>0.735099</td>\n",
       "      <td>0.000000</td>\n",
       "      <td>0.042780</td>\n",
       "      <td>0.000000</td>\n",
       "    </tr>\n",
       "    <tr>\n",
       "      <th>7</th>\n",
       "      <td>country_Austria</td>\n",
       "      <td>-0.398833</td>\n",
       "      <td>0.000000</td>\n",
       "      <td>0.014558</td>\n",
       "      <td>0.017754</td>\n",
       "    </tr>\n",
       "    <tr>\n",
       "      <th>8</th>\n",
       "      <td>country_Belgium</td>\n",
       "      <td>0.080522</td>\n",
       "      <td>0.000000</td>\n",
       "      <td>0.004800</td>\n",
       "      <td>0.009789</td>\n",
       "    </tr>\n",
       "    <tr>\n",
       "      <th>9</th>\n",
       "      <td>country_Bulgaria</td>\n",
       "      <td>0.052831</td>\n",
       "      <td>0.000000</td>\n",
       "      <td>0.001363</td>\n",
       "      <td>0.024866</td>\n",
       "    </tr>\n",
       "    <tr>\n",
       "      <th>10</th>\n",
       "      <td>country_Croatia</td>\n",
       "      <td>1.883838</td>\n",
       "      <td>0.000000</td>\n",
       "      <td>0.009682</td>\n",
       "      <td>0.011242</td>\n",
       "    </tr>\n",
       "    <tr>\n",
       "      <th>11</th>\n",
       "      <td>country_Cyprus</td>\n",
       "      <td>0.387567</td>\n",
       "      <td>0.000000</td>\n",
       "      <td>0.001098</td>\n",
       "      <td>0.000000</td>\n",
       "    </tr>\n",
       "    <tr>\n",
       "      <th>12</th>\n",
       "      <td>country_Czech Republic</td>\n",
       "      <td>-0.164886</td>\n",
       "      <td>0.000000</td>\n",
       "      <td>0.015352</td>\n",
       "      <td>0.039887</td>\n",
       "    </tr>\n",
       "    <tr>\n",
       "      <th>13</th>\n",
       "      <td>country_Denmark</td>\n",
       "      <td>-0.452506</td>\n",
       "      <td>0.000000</td>\n",
       "      <td>0.005943</td>\n",
       "      <td>0.023242</td>\n",
       "    </tr>\n",
       "    <tr>\n",
       "      <th>14</th>\n",
       "      <td>country_Estonia</td>\n",
       "      <td>-0.552504</td>\n",
       "      <td>0.000000</td>\n",
       "      <td>0.007063</td>\n",
       "      <td>0.016146</td>\n",
       "    </tr>\n",
       "    <tr>\n",
       "      <th>15</th>\n",
       "      <td>country_Finland</td>\n",
       "      <td>0.096397</td>\n",
       "      <td>0.213650</td>\n",
       "      <td>0.017770</td>\n",
       "      <td>0.041823</td>\n",
       "    </tr>\n",
       "    <tr>\n",
       "      <th>16</th>\n",
       "      <td>country_France</td>\n",
       "      <td>-0.210631</td>\n",
       "      <td>0.000000</td>\n",
       "      <td>0.010071</td>\n",
       "      <td>0.016113</td>\n",
       "    </tr>\n",
       "    <tr>\n",
       "      <th>17</th>\n",
       "      <td>country_Germany</td>\n",
       "      <td>-0.389685</td>\n",
       "      <td>0.000000</td>\n",
       "      <td>0.009429</td>\n",
       "      <td>0.020656</td>\n",
       "    </tr>\n",
       "    <tr>\n",
       "      <th>18</th>\n",
       "      <td>country_Greece</td>\n",
       "      <td>-0.108819</td>\n",
       "      <td>0.000000</td>\n",
       "      <td>0.002879</td>\n",
       "      <td>0.025845</td>\n",
       "    </tr>\n",
       "    <tr>\n",
       "      <th>19</th>\n",
       "      <td>country_Hungary</td>\n",
       "      <td>0.469477</td>\n",
       "      <td>0.000000</td>\n",
       "      <td>0.002484</td>\n",
       "      <td>0.016109</td>\n",
       "    </tr>\n",
       "    <tr>\n",
       "      <th>20</th>\n",
       "      <td>country_Ireland</td>\n",
       "      <td>0.408612</td>\n",
       "      <td>0.000000</td>\n",
       "      <td>0.004957</td>\n",
       "      <td>0.000000</td>\n",
       "    </tr>\n",
       "    <tr>\n",
       "      <th>21</th>\n",
       "      <td>country_Italy</td>\n",
       "      <td>1.005300</td>\n",
       "      <td>0.000000</td>\n",
       "      <td>0.006753</td>\n",
       "      <td>0.009548</td>\n",
       "    </tr>\n",
       "    <tr>\n",
       "      <th>22</th>\n",
       "      <td>country_Latvia</td>\n",
       "      <td>-0.021222</td>\n",
       "      <td>0.000000</td>\n",
       "      <td>0.015932</td>\n",
       "      <td>0.037075</td>\n",
       "    </tr>\n",
       "    <tr>\n",
       "      <th>23</th>\n",
       "      <td>country_Lithuania</td>\n",
       "      <td>-1.727335</td>\n",
       "      <td>0.000000</td>\n",
       "      <td>0.005815</td>\n",
       "      <td>0.012179</td>\n",
       "    </tr>\n",
       "    <tr>\n",
       "      <th>24</th>\n",
       "      <td>country_Luxembourg</td>\n",
       "      <td>-1.298802</td>\n",
       "      <td>0.000000</td>\n",
       "      <td>0.004730</td>\n",
       "      <td>0.014521</td>\n",
       "    </tr>\n",
       "    <tr>\n",
       "      <th>25</th>\n",
       "      <td>country_Malta</td>\n",
       "      <td>0.010044</td>\n",
       "      <td>0.000000</td>\n",
       "      <td>0.000000</td>\n",
       "      <td>0.000000</td>\n",
       "    </tr>\n",
       "    <tr>\n",
       "      <th>26</th>\n",
       "      <td>country_Netherlands</td>\n",
       "      <td>0.883120</td>\n",
       "      <td>0.000000</td>\n",
       "      <td>0.005303</td>\n",
       "      <td>0.000000</td>\n",
       "    </tr>\n",
       "    <tr>\n",
       "      <th>27</th>\n",
       "      <td>country_Poland</td>\n",
       "      <td>1.980948</td>\n",
       "      <td>0.000000</td>\n",
       "      <td>0.002834</td>\n",
       "      <td>0.012510</td>\n",
       "    </tr>\n",
       "    <tr>\n",
       "      <th>28</th>\n",
       "      <td>country_Portugal</td>\n",
       "      <td>0.120858</td>\n",
       "      <td>0.000000</td>\n",
       "      <td>0.008830</td>\n",
       "      <td>0.032918</td>\n",
       "    </tr>\n",
       "    <tr>\n",
       "      <th>29</th>\n",
       "      <td>country_Romania</td>\n",
       "      <td>-0.004143</td>\n",
       "      <td>0.360074</td>\n",
       "      <td>0.054110</td>\n",
       "      <td>0.065306</td>\n",
       "    </tr>\n",
       "    <tr>\n",
       "      <th>30</th>\n",
       "      <td>country_Slovakia</td>\n",
       "      <td>-1.110164</td>\n",
       "      <td>0.000000</td>\n",
       "      <td>0.005805</td>\n",
       "      <td>0.022255</td>\n",
       "    </tr>\n",
       "    <tr>\n",
       "      <th>31</th>\n",
       "      <td>country_Slovenia</td>\n",
       "      <td>0.023239</td>\n",
       "      <td>0.000000</td>\n",
       "      <td>0.018174</td>\n",
       "      <td>0.029905</td>\n",
       "    </tr>\n",
       "    <tr>\n",
       "      <th>32</th>\n",
       "      <td>country_Spain</td>\n",
       "      <td>0.104157</td>\n",
       "      <td>0.000000</td>\n",
       "      <td>0.003328</td>\n",
       "      <td>0.018823</td>\n",
       "    </tr>\n",
       "    <tr>\n",
       "      <th>33</th>\n",
       "      <td>country_Sweden</td>\n",
       "      <td>-1.394199</td>\n",
       "      <td>0.000000</td>\n",
       "      <td>0.010527</td>\n",
       "      <td>0.018272</td>\n",
       "    </tr>\n",
       "    <tr>\n",
       "      <th>34</th>\n",
       "      <td>country_United Kingdom</td>\n",
       "      <td>0.500881</td>\n",
       "      <td>0.000000</td>\n",
       "      <td>0.010702</td>\n",
       "      <td>0.020270</td>\n",
       "    </tr>\n",
       "    <tr>\n",
       "      <th>35</th>\n",
       "      <td>d10_Man</td>\n",
       "      <td>-0.015008</td>\n",
       "      <td>0.000000</td>\n",
       "      <td>0.021460</td>\n",
       "      <td>0.009201</td>\n",
       "    </tr>\n",
       "    <tr>\n",
       "      <th>36</th>\n",
       "      <td>d10_Woman</td>\n",
       "      <td>-0.033445</td>\n",
       "      <td>0.000000</td>\n",
       "      <td>0.019994</td>\n",
       "      <td>0.000000</td>\n",
       "    </tr>\n",
       "    <tr>\n",
       "      <th>37</th>\n",
       "      <td>d11</td>\n",
       "      <td>0.121588</td>\n",
       "      <td>0.000000</td>\n",
       "      <td>0.156237</td>\n",
       "      <td>0.013479</td>\n",
       "    </tr>\n",
       "    <tr>\n",
       "      <th>38</th>\n",
       "      <td>d1_Centre</td>\n",
       "      <td>-1.058548</td>\n",
       "      <td>0.000000</td>\n",
       "      <td>0.021662</td>\n",
       "      <td>0.008517</td>\n",
       "    </tr>\n",
       "    <tr>\n",
       "      <th>39</th>\n",
       "      <td>d1_Centre-letf</td>\n",
       "      <td>0.027082</td>\n",
       "      <td>0.000000</td>\n",
       "      <td>0.018325</td>\n",
       "      <td>0.009670</td>\n",
       "    </tr>\n",
       "    <tr>\n",
       "      <th>40</th>\n",
       "      <td>d1_Centre-right</td>\n",
       "      <td>-0.049085</td>\n",
       "      <td>0.000000</td>\n",
       "      <td>0.015537</td>\n",
       "      <td>0.014130</td>\n",
       "    </tr>\n",
       "    <tr>\n",
       "      <th>41</th>\n",
       "      <td>d1_Left</td>\n",
       "      <td>-0.002212</td>\n",
       "      <td>0.000000</td>\n",
       "      <td>0.008380</td>\n",
       "      <td>0.025501</td>\n",
       "    </tr>\n",
       "    <tr>\n",
       "      <th>42</th>\n",
       "      <td>d1_Not positionable</td>\n",
       "      <td>0.670363</td>\n",
       "      <td>0.000000</td>\n",
       "      <td>0.011078</td>\n",
       "      <td>0.012304</td>\n",
       "    </tr>\n",
       "    <tr>\n",
       "      <th>43</th>\n",
       "      <td>d1_Right</td>\n",
       "      <td>0.219321</td>\n",
       "      <td>0.000000</td>\n",
       "      <td>0.007627</td>\n",
       "      <td>0.015009</td>\n",
       "    </tr>\n",
       "    <tr>\n",
       "      <th>44</th>\n",
       "      <td>d25_Large town</td>\n",
       "      <td>0.375201</td>\n",
       "      <td>0.000000</td>\n",
       "      <td>0.022181</td>\n",
       "      <td>0.018134</td>\n",
       "    </tr>\n",
       "    <tr>\n",
       "      <th>45</th>\n",
       "      <td>d25_Rural area or village</td>\n",
       "      <td>-0.505315</td>\n",
       "      <td>0.000000</td>\n",
       "      <td>0.022545</td>\n",
       "      <td>0.015476</td>\n",
       "    </tr>\n",
       "    <tr>\n",
       "      <th>46</th>\n",
       "      <td>d25_Small or middle sized town</td>\n",
       "      <td>0.162582</td>\n",
       "      <td>0.000000</td>\n",
       "      <td>0.024202</td>\n",
       "      <td>0.015838</td>\n",
       "    </tr>\n",
       "    <tr>\n",
       "      <th>47</th>\n",
       "      <td>d25_dk</td>\n",
       "      <td>-0.096398</td>\n",
       "      <td>0.000000</td>\n",
       "      <td>0.000000</td>\n",
       "      <td>0.000000</td>\n",
       "    </tr>\n",
       "    <tr>\n",
       "      <th>48</th>\n",
       "      <td>d63_Refusal/Other</td>\n",
       "      <td>0.077097</td>\n",
       "      <td>0.000000</td>\n",
       "      <td>0.001674</td>\n",
       "      <td>0.000000</td>\n",
       "    </tr>\n",
       "    <tr>\n",
       "      <th>49</th>\n",
       "      <td>d63_The higher class of society</td>\n",
       "      <td>-0.312142</td>\n",
       "      <td>0.000000</td>\n",
       "      <td>0.000252</td>\n",
       "      <td>0.015660</td>\n",
       "    </tr>\n",
       "    <tr>\n",
       "      <th>50</th>\n",
       "      <td>d63_The lower middle class of society</td>\n",
       "      <td>0.006455</td>\n",
       "      <td>0.000000</td>\n",
       "      <td>0.012739</td>\n",
       "      <td>0.012786</td>\n",
       "    </tr>\n",
       "    <tr>\n",
       "      <th>51</th>\n",
       "      <td>d63_The middle class of society</td>\n",
       "      <td>0.250209</td>\n",
       "      <td>0.000000</td>\n",
       "      <td>0.024871</td>\n",
       "      <td>0.016692</td>\n",
       "    </tr>\n",
       "    <tr>\n",
       "      <th>52</th>\n",
       "      <td>d63_The upper middle class of society</td>\n",
       "      <td>0.482535</td>\n",
       "      <td>0.000000</td>\n",
       "      <td>0.009645</td>\n",
       "      <td>0.009393</td>\n",
       "    </tr>\n",
       "    <tr>\n",
       "      <th>53</th>\n",
       "      <td>d63_The working class of society</td>\n",
       "      <td>0.122655</td>\n",
       "      <td>0.000000</td>\n",
       "      <td>0.027775</td>\n",
       "      <td>0.019265</td>\n",
       "    </tr>\n",
       "    <tr>\n",
       "      <th>54</th>\n",
       "      <td>d7_Partner</td>\n",
       "      <td>-0.172879</td>\n",
       "      <td>0.000000</td>\n",
       "      <td>0.025481</td>\n",
       "      <td>0.009209</td>\n",
       "    </tr>\n",
       "    <tr>\n",
       "      <th>55</th>\n",
       "      <td>d7_Partner and children</td>\n",
       "      <td>-0.429153</td>\n",
       "      <td>0.000000</td>\n",
       "      <td>0.016972</td>\n",
       "      <td>0.007626</td>\n",
       "    </tr>\n",
       "    <tr>\n",
       "      <th>56</th>\n",
       "      <td>d7_Refusal/Other</td>\n",
       "      <td>0.571775</td>\n",
       "      <td>0.000000</td>\n",
       "      <td>0.000000</td>\n",
       "      <td>0.000000</td>\n",
       "    </tr>\n",
       "    <tr>\n",
       "      <th>57</th>\n",
       "      <td>d7_Single</td>\n",
       "      <td>-0.892342</td>\n",
       "      <td>0.000000</td>\n",
       "      <td>0.025806</td>\n",
       "      <td>0.023001</td>\n",
       "    </tr>\n",
       "    <tr>\n",
       "      <th>58</th>\n",
       "      <td>d7_Single with children</td>\n",
       "      <td>-0.143673</td>\n",
       "      <td>0.000000</td>\n",
       "      <td>0.004596</td>\n",
       "      <td>0.018766</td>\n",
       "    </tr>\n",
       "    <tr>\n",
       "      <th>59</th>\n",
       "      <td>d8_16-19 years old</td>\n",
       "      <td>-0.625210</td>\n",
       "      <td>0.000000</td>\n",
       "      <td>0.020869</td>\n",
       "      <td>0.007742</td>\n",
       "    </tr>\n",
       "    <tr>\n",
       "      <th>60</th>\n",
       "      <td>d8_20+ years old</td>\n",
       "      <td>1.216136</td>\n",
       "      <td>0.000000</td>\n",
       "      <td>0.028321</td>\n",
       "      <td>0.013229</td>\n",
       "    </tr>\n",
       "    <tr>\n",
       "      <th>61</th>\n",
       "      <td>d8_Refusal/dk</td>\n",
       "      <td>0.150903</td>\n",
       "      <td>0.000000</td>\n",
       "      <td>0.005540</td>\n",
       "      <td>0.013767</td>\n",
       "    </tr>\n",
       "    <tr>\n",
       "      <th>62</th>\n",
       "      <td>d8_Still studying</td>\n",
       "      <td>-0.234288</td>\n",
       "      <td>0.000000</td>\n",
       "      <td>0.005007</td>\n",
       "      <td>0.006878</td>\n",
       "    </tr>\n",
       "    <tr>\n",
       "      <th>63</th>\n",
       "      <td>d8_Up to 15 years old</td>\n",
       "      <td>-0.144260</td>\n",
       "      <td>0.000000</td>\n",
       "      <td>0.010490</td>\n",
       "      <td>0.005556</td>\n",
       "    </tr>\n",
       "  </tbody>\n",
       "</table>\n",
       "</div>"
      ],
      "text/plain": [
       "                                 variable  importance_lg  importance_dt  \\\n",
       "0                                   cca_1       0.017753       0.000000   \n",
       "1                                   cca_2       0.167401       0.000000   \n",
       "2                                   cca_3       0.398833       0.000000   \n",
       "3                                   cca_4      -0.405617       0.000000   \n",
       "4                                   cca_5      -0.561250       0.000000   \n",
       "5                               cluster_1      -0.256186       0.426276   \n",
       "6                               cluster_2       0.735099       0.000000   \n",
       "7                         country_Austria      -0.398833       0.000000   \n",
       "8                         country_Belgium       0.080522       0.000000   \n",
       "9                        country_Bulgaria       0.052831       0.000000   \n",
       "10                        country_Croatia       1.883838       0.000000   \n",
       "11                         country_Cyprus       0.387567       0.000000   \n",
       "12                 country_Czech Republic      -0.164886       0.000000   \n",
       "13                        country_Denmark      -0.452506       0.000000   \n",
       "14                        country_Estonia      -0.552504       0.000000   \n",
       "15                        country_Finland       0.096397       0.213650   \n",
       "16                         country_France      -0.210631       0.000000   \n",
       "17                        country_Germany      -0.389685       0.000000   \n",
       "18                         country_Greece      -0.108819       0.000000   \n",
       "19                        country_Hungary       0.469477       0.000000   \n",
       "20                        country_Ireland       0.408612       0.000000   \n",
       "21                          country_Italy       1.005300       0.000000   \n",
       "22                         country_Latvia      -0.021222       0.000000   \n",
       "23                      country_Lithuania      -1.727335       0.000000   \n",
       "24                     country_Luxembourg      -1.298802       0.000000   \n",
       "25                          country_Malta       0.010044       0.000000   \n",
       "26                    country_Netherlands       0.883120       0.000000   \n",
       "27                         country_Poland       1.980948       0.000000   \n",
       "28                       country_Portugal       0.120858       0.000000   \n",
       "29                        country_Romania      -0.004143       0.360074   \n",
       "30                       country_Slovakia      -1.110164       0.000000   \n",
       "31                       country_Slovenia       0.023239       0.000000   \n",
       "32                          country_Spain       0.104157       0.000000   \n",
       "33                         country_Sweden      -1.394199       0.000000   \n",
       "34                 country_United Kingdom       0.500881       0.000000   \n",
       "35                                d10_Man      -0.015008       0.000000   \n",
       "36                              d10_Woman      -0.033445       0.000000   \n",
       "37                                    d11       0.121588       0.000000   \n",
       "38                              d1_Centre      -1.058548       0.000000   \n",
       "39                         d1_Centre-letf       0.027082       0.000000   \n",
       "40                        d1_Centre-right      -0.049085       0.000000   \n",
       "41                                d1_Left      -0.002212       0.000000   \n",
       "42                    d1_Not positionable       0.670363       0.000000   \n",
       "43                               d1_Right       0.219321       0.000000   \n",
       "44                         d25_Large town       0.375201       0.000000   \n",
       "45              d25_Rural area or village      -0.505315       0.000000   \n",
       "46         d25_Small or middle sized town       0.162582       0.000000   \n",
       "47                                 d25_dk      -0.096398       0.000000   \n",
       "48                      d63_Refusal/Other       0.077097       0.000000   \n",
       "49        d63_The higher class of society      -0.312142       0.000000   \n",
       "50  d63_The lower middle class of society       0.006455       0.000000   \n",
       "51        d63_The middle class of society       0.250209       0.000000   \n",
       "52  d63_The upper middle class of society       0.482535       0.000000   \n",
       "53       d63_The working class of society       0.122655       0.000000   \n",
       "54                             d7_Partner      -0.172879       0.000000   \n",
       "55                d7_Partner and children      -0.429153       0.000000   \n",
       "56                       d7_Refusal/Other       0.571775       0.000000   \n",
       "57                              d7_Single      -0.892342       0.000000   \n",
       "58                d7_Single with children      -0.143673       0.000000   \n",
       "59                     d8_16-19 years old      -0.625210       0.000000   \n",
       "60                       d8_20+ years old       1.216136       0.000000   \n",
       "61                          d8_Refusal/dk       0.150903       0.000000   \n",
       "62                      d8_Still studying      -0.234288       0.000000   \n",
       "63                  d8_Up to 15 years old      -0.144260       0.000000   \n",
       "\n",
       "    importance_rf  importance_gb  \n",
       "0        0.017036       0.012917  \n",
       "1        0.017164       0.014193  \n",
       "2        0.019588       0.005926  \n",
       "3        0.015154       0.015988  \n",
       "4        0.013371       0.018173  \n",
       "5        0.045347       0.038921  \n",
       "6        0.042780       0.000000  \n",
       "7        0.014558       0.017754  \n",
       "8        0.004800       0.009789  \n",
       "9        0.001363       0.024866  \n",
       "10       0.009682       0.011242  \n",
       "11       0.001098       0.000000  \n",
       "12       0.015352       0.039887  \n",
       "13       0.005943       0.023242  \n",
       "14       0.007063       0.016146  \n",
       "15       0.017770       0.041823  \n",
       "16       0.010071       0.016113  \n",
       "17       0.009429       0.020656  \n",
       "18       0.002879       0.025845  \n",
       "19       0.002484       0.016109  \n",
       "20       0.004957       0.000000  \n",
       "21       0.006753       0.009548  \n",
       "22       0.015932       0.037075  \n",
       "23       0.005815       0.012179  \n",
       "24       0.004730       0.014521  \n",
       "25       0.000000       0.000000  \n",
       "26       0.005303       0.000000  \n",
       "27       0.002834       0.012510  \n",
       "28       0.008830       0.032918  \n",
       "29       0.054110       0.065306  \n",
       "30       0.005805       0.022255  \n",
       "31       0.018174       0.029905  \n",
       "32       0.003328       0.018823  \n",
       "33       0.010527       0.018272  \n",
       "34       0.010702       0.020270  \n",
       "35       0.021460       0.009201  \n",
       "36       0.019994       0.000000  \n",
       "37       0.156237       0.013479  \n",
       "38       0.021662       0.008517  \n",
       "39       0.018325       0.009670  \n",
       "40       0.015537       0.014130  \n",
       "41       0.008380       0.025501  \n",
       "42       0.011078       0.012304  \n",
       "43       0.007627       0.015009  \n",
       "44       0.022181       0.018134  \n",
       "45       0.022545       0.015476  \n",
       "46       0.024202       0.015838  \n",
       "47       0.000000       0.000000  \n",
       "48       0.001674       0.000000  \n",
       "49       0.000252       0.015660  \n",
       "50       0.012739       0.012786  \n",
       "51       0.024871       0.016692  \n",
       "52       0.009645       0.009393  \n",
       "53       0.027775       0.019265  \n",
       "54       0.025481       0.009209  \n",
       "55       0.016972       0.007626  \n",
       "56       0.000000       0.000000  \n",
       "57       0.025806       0.023001  \n",
       "58       0.004596       0.018766  \n",
       "59       0.020869       0.007742  \n",
       "60       0.028321       0.013229  \n",
       "61       0.005540       0.013767  \n",
       "62       0.005007       0.006878  \n",
       "63       0.010490       0.005556  "
      ]
     },
     "execution_count": 43,
     "metadata": {},
     "output_type": "execute_result"
    }
   ],
   "source": [
    "imp = pd.read_csv('imp3.csv')\n",
    "imp"
   ]
  },
  {
   "cell_type": "code",
   "execution_count": 114,
   "metadata": {},
   "outputs": [
    {
     "name": "stdout",
     "output_type": "stream",
     "text": [
      "roc_auc_score for Random Forest - Low Risk Perception:  0.6792023922938499\n"
     ]
    },
    {
     "data": {
      "image/png": "[encoded data removed]",
      "text/plain": [
       "<Figure size 720x720 with 1 Axes>"
      ]
     },
     "metadata": {
      "needs_background": "light"
     },
     "output_type": "display_data"
    }
   ],
   "source": [
    "y_score2 = rf_classifier.best_estimator_.predict_proba(X_test)[:,1]\n",
    "false_positive_rate2, true_positive_rate2, threshold2 = roc_curve(y_test, y_score2)\n",
    "print('roc_auc_score for Random Forest - Low Risk Perception: ', roc_auc_score(y_test, y_score2))\n",
    "plt.subplots(1, figsize=(10,10))\n",
    "plt.title('Receiver Operating Characteristic -Random Forest')\n",
    "plt.plot(false_positive_rate2, true_positive_rate2)\n",
    "plt.plot([0, 1], ls=\"--\")\n",
    "plt.plot([0, 0], [1, 0] , c=\".7\"), plt.plot([1, 1] , c=\".7\")\n",
    "plt.ylabel('True Positive Rate')\n",
    "plt.xlabel('False Positive Rate')\n",
    "plt.show()"
   ]
  },
  {
   "cell_type": "markdown",
   "metadata": {},
   "source": [
    "#### REFERENCES \n",
    "\n",
    "https://towardsdatascience.com/my-random-forest-classifier-cheat-sheet-in-python-fedb84f8cf4f\n",
    "\n",
    "https://towardsdatascience.com/hyperparameter-tuning-the-random-forest-in-python-using-scikit-learn-28d2aa77dd74\n",
    "\n",
    "https://towardsdatascience.com/my-random-forest-classifier-cheat-sheet-in-python-fedb84f8cf4f\n",
    "\n"
   ]
  },
  {
   "cell_type": "code",
   "execution_count": null,
   "metadata": {},
   "outputs": [],
   "source": []
  }
 ],
 "metadata": {
  "kernelspec": {
   "display_name": "Python 3",
   "language": "python",
   "name": "python3"
  },
  "language_info": {
   "codemirror_mode": {
    "name": "ipython",
    "version": 3
   },
   "file_extension": ".py",
   "mimetype": "text/x-python",
   "name": "python",
   "nbconvert_exporter": "python",
   "pygments_lexer": "ipython3",
   "version": "3.7.1"
  }
 },
 "nbformat": 4,
 "nbformat_minor": 2
}
