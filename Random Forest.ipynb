{
 "cells": [
  {
   "cell_type": "markdown",
   "metadata": {},
   "source": [
    "#### Import Data and Libraries\n",
    "\n",
    "In this section I create 3 datasets: \n",
    "1. Complete Dataset with all data\n",
    "2. Data of individuals who have a high Climate Change Risk Perception (q2 >= 6) \n",
    "2. Data of individuals who have Low Climate Change Risk Perception (q2 <= 5) \n",
    "\n",
    "With all datasets I will predict pro-environmental behaviour (qb5). "
   ]
  },
  {
   "cell_type": "code",
   "execution_count": 3,
   "metadata": {},
   "outputs": [
    {
     "data": {
      "text/html": [
       "<div>\n",
       "<style scoped>\n",
       "    .dataframe tbody tr th:only-of-type {\n",
       "        vertical-align: middle;\n",
       "    }\n",
       "\n",
       "    .dataframe tbody tr th {\n",
       "        vertical-align: top;\n",
       "    }\n",
       "\n",
       "    .dataframe thead th {\n",
       "        text-align: right;\n",
       "    }\n",
       "</style>\n",
       "<table border=\"1\" class=\"dataframe\">\n",
       "  <thead>\n",
       "    <tr style=\"text-align: right;\">\n",
       "      <th></th>\n",
       "      <th>qb2</th>\n",
       "      <th>qb5</th>\n",
       "      <th>qb4_3</th>\n",
       "      <th>qb4_5</th>\n",
       "      <th>qb7</th>\n",
       "      <th>qb8</th>\n",
       "      <th>qb9</th>\n",
       "      <th>d1</th>\n",
       "      <th>d10</th>\n",
       "      <th>d11</th>\n",
       "      <th>d25</th>\n",
       "      <th>d8</th>\n",
       "      <th>d63</th>\n",
       "      <th>d7</th>\n",
       "      <th>country</th>\n",
       "      <th>cca</th>\n",
       "      <th>cluster</th>\n",
       "    </tr>\n",
       "  </thead>\n",
       "  <tbody>\n",
       "    <tr>\n",
       "      <th>0</th>\n",
       "      <td>4</td>\n",
       "      <td>0</td>\n",
       "      <td>2</td>\n",
       "      <td>2</td>\n",
       "      <td>2</td>\n",
       "      <td>2</td>\n",
       "      <td>2</td>\n",
       "      <td>Centre-letf</td>\n",
       "      <td>Man</td>\n",
       "      <td>20</td>\n",
       "      <td>Large town</td>\n",
       "      <td>Still studying</td>\n",
       "      <td>The middle class of society</td>\n",
       "      <td>Single</td>\n",
       "      <td>Belgium</td>\n",
       "      <td>1</td>\n",
       "      <td>1</td>\n",
       "    </tr>\n",
       "    <tr>\n",
       "      <th>1</th>\n",
       "      <td>5</td>\n",
       "      <td>0</td>\n",
       "      <td>2</td>\n",
       "      <td>2</td>\n",
       "      <td>2</td>\n",
       "      <td>2</td>\n",
       "      <td>2</td>\n",
       "      <td>Centre-letf</td>\n",
       "      <td>Man</td>\n",
       "      <td>55</td>\n",
       "      <td>Large town</td>\n",
       "      <td>Refusal/dk</td>\n",
       "      <td>The middle class of society</td>\n",
       "      <td>Partner and children</td>\n",
       "      <td>Belgium</td>\n",
       "      <td>1</td>\n",
       "      <td>1</td>\n",
       "    </tr>\n",
       "    <tr>\n",
       "      <th>2</th>\n",
       "      <td>6</td>\n",
       "      <td>0</td>\n",
       "      <td>2</td>\n",
       "      <td>2</td>\n",
       "      <td>2</td>\n",
       "      <td>1</td>\n",
       "      <td>1</td>\n",
       "      <td>Centre-letf</td>\n",
       "      <td>Man</td>\n",
       "      <td>80</td>\n",
       "      <td>Large town</td>\n",
       "      <td>Refusal/dk</td>\n",
       "      <td>The lower middle class of society</td>\n",
       "      <td>Single</td>\n",
       "      <td>Belgium</td>\n",
       "      <td>2</td>\n",
       "      <td>1</td>\n",
       "    </tr>\n",
       "    <tr>\n",
       "      <th>3</th>\n",
       "      <td>6</td>\n",
       "      <td>1</td>\n",
       "      <td>2</td>\n",
       "      <td>2</td>\n",
       "      <td>2</td>\n",
       "      <td>2</td>\n",
       "      <td>2</td>\n",
       "      <td>Centre</td>\n",
       "      <td>Man</td>\n",
       "      <td>40</td>\n",
       "      <td>Large town</td>\n",
       "      <td>Refusal/dk</td>\n",
       "      <td>The lower middle class of society</td>\n",
       "      <td>Partner and children</td>\n",
       "      <td>Belgium</td>\n",
       "      <td>1</td>\n",
       "      <td>1</td>\n",
       "    </tr>\n",
       "    <tr>\n",
       "      <th>4</th>\n",
       "      <td>5</td>\n",
       "      <td>1</td>\n",
       "      <td>3</td>\n",
       "      <td>3</td>\n",
       "      <td>2</td>\n",
       "      <td>3</td>\n",
       "      <td>2</td>\n",
       "      <td>Centre</td>\n",
       "      <td>Man</td>\n",
       "      <td>55</td>\n",
       "      <td>Large town</td>\n",
       "      <td>Refusal/dk</td>\n",
       "      <td>The middle class of society</td>\n",
       "      <td>Partner and children</td>\n",
       "      <td>Belgium</td>\n",
       "      <td>2</td>\n",
       "      <td>1</td>\n",
       "    </tr>\n",
       "  </tbody>\n",
       "</table>\n",
       "</div>"
      ],
      "text/plain": [
       "   qb2  qb5  qb4_3  qb4_5  qb7  qb8  qb9           d1  d10  d11         d25  \\\n",
       "0    4    0      2      2    2    2    2  Centre-letf  Man   20  Large town   \n",
       "1    5    0      2      2    2    2    2  Centre-letf  Man   55  Large town   \n",
       "2    6    0      2      2    2    1    1  Centre-letf  Man   80  Large town   \n",
       "3    6    1      2      2    2    2    2       Centre  Man   40  Large town   \n",
       "4    5    1      3      3    2    3    2       Centre  Man   55  Large town   \n",
       "\n",
       "               d8                                d63                    d7  \\\n",
       "0  Still studying        The middle class of society                Single   \n",
       "1      Refusal/dk        The middle class of society  Partner and children   \n",
       "2      Refusal/dk  The lower middle class of society                Single   \n",
       "3      Refusal/dk  The lower middle class of society  Partner and children   \n",
       "4      Refusal/dk        The middle class of society  Partner and children   \n",
       "\n",
       "   country  cca  cluster  \n",
       "0  Belgium    1        1  \n",
       "1  Belgium    1        1  \n",
       "2  Belgium    2        1  \n",
       "3  Belgium    1        1  \n",
       "4  Belgium    2        1  "
      ]
     },
     "execution_count": 3,
     "metadata": {},
     "output_type": "execute_result"
    }
   ],
   "source": [
    "# Import Data \n",
    "import numpy as np\n",
    "import pandas as pd\n",
    "from sklearn.metrics import classification_report\n",
    "from sklearn.preprocessing import OneHotEncoder\n",
    "from sklearn.compose import make_column_transformer\n",
    "from sklearn.metrics import accuracy_score, confusion_matrix, precision_score, recall_score, roc_auc_score, roc_curve, f1_score\n",
    "import seaborn as sns\n",
    "from matplotlib import pyplot as plt\n",
    "from sklearn import metrics\n",
    "from sklearn.ensemble import RandomForestClassifier\n",
    "from sklearn.pipeline import make_pipeline\n",
    "from sklearn.utils.class_weight import compute_class_weight\n",
    "from sklearn.model_selection import train_test_split\n",
    "from sklearn.model_selection import RandomizedSearchCV\n",
    "from sklearn.metrics import log_loss\n",
    "\n",
    "df = pd.read_csv('df-climatechange.csv')\n",
    "df = df.drop(['qb1a', 'Unnamed: 0'], axis = 1)\n",
    "df['qb5'] = df['qb5'].replace({'No': 0, 'Yes':1})\n",
    "\n",
    "df1 = df[df.qb2 >= 6]\n",
    "df2 = df[df.qb2 <= 5]\n",
    "#pd.set_option('display.max_columns', None)\n",
    "df.head()"
   ]
  },
  {
   "cell_type": "code",
   "execution_count": 4,
   "metadata": {},
   "outputs": [
    {
     "data": {
      "text/plain": [
       "21978"
      ]
     },
     "execution_count": 4,
     "metadata": {},
     "output_type": "execute_result"
    }
   ],
   "source": [
    "len(df)"
   ]
  },
  {
   "cell_type": "markdown",
   "metadata": {},
   "source": [
    "#### Set parameters Random Search"
   ]
  },
  {
   "cell_type": "code",
   "execution_count": 37,
   "metadata": {},
   "outputs": [],
   "source": [
    "\n",
    "#parameter for random search \n",
    "\n",
    "n_estimators = [100, 150, 300, 500, 800, 1200]\n",
    "max_depth = [5, 8, 15, 25, 30]\n",
    "min_samples_split = [2, 5, 10, 15, 100]\n",
    "min_samples_leaf = [1, 2, 5, 10] \n",
    "\n",
    "param_grid = dict(n_estimators = n_estimators, max_depth = max_depth,  \n",
    "              min_samples_split = min_samples_split, \n",
    "             min_samples_leaf = min_samples_leaf)\n"
   ]
  },
  {
   "cell_type": "code",
   "execution_count": 38,
   "metadata": {},
   "outputs": [
    {
     "data": {
      "text/plain": [
       "{'n_estimators': [100, 150, 300, 500, 800, 1200],\n",
       " 'max_depth': [5, 8, 15, 25, 30],\n",
       " 'min_samples_split': [2, 5, 10, 15, 100],\n",
       " 'min_samples_leaf': [1, 2, 5, 10]}"
      ]
     },
     "execution_count": 38,
     "metadata": {},
     "output_type": "execute_result"
    }
   ],
   "source": [
    "param_grid"
   ]
  },
  {
   "cell_type": "markdown",
   "metadata": {},
   "source": [
    "### Complete Dataset\n",
    "\n",
    "In this part there is the complete dataset. I will predict pro-environmental behaviour (qb5). The predictors are: climate change risk perception, clusters and correlational class analysis of other questions about climate change, socio-demograpich variables. "
   ]
  },
  {
   "cell_type": "code",
   "execution_count": 39,
   "metadata": {},
   "outputs": [],
   "source": [
    "cc_num = df[['qb5', 'qb2' , 'd1', 'd10','d11', 'country','d8','d25', 'd63','d7','cluster', 'cca']]\n",
    "cat_var =['d1','d10', 'country','d8','d25', 'd63','d7','cluster', 'cca']\n",
    "\n",
    "df_get_dummies = pd.get_dummies(  cc_num , columns = cat_var)\n"
   ]
  },
  {
   "cell_type": "markdown",
   "metadata": {},
   "source": [
    "#### Split the data into X and y and create training and validating set"
   ]
  },
  {
   "cell_type": "code",
   "execution_count": 40,
   "metadata": {},
   "outputs": [],
   "source": [
    "seed = 125\n",
    "\n",
    "X = df_get_dummies.drop('qb5',axis=1)\n",
    "y = df_get_dummies.loc[:, df_get_dummies.columns == 'qb5']\n",
    "X_train, X_test, y_train, y_test = train_test_split(X,y,test_size=0.30, random_state = seed,stratify=y)"
   ]
  },
  {
   "cell_type": "code",
   "execution_count": 41,
   "metadata": {},
   "outputs": [
    {
     "data": {
      "text/plain": [
       "qb5\n",
       "0     7651\n",
       "1    14327\n",
       "Name: qb5, dtype: int64"
      ]
     },
     "execution_count": 41,
     "metadata": {},
     "output_type": "execute_result"
    }
   ],
   "source": [
    "c = df.groupby('qb5')['qb5'].count()\n",
    "c #unbalanced"
   ]
  },
  {
   "cell_type": "code",
   "execution_count": 42,
   "metadata": {},
   "outputs": [
    {
     "data": {
      "text/plain": [
       "array([1.43641457, 0.76697577])"
      ]
     },
     "execution_count": 42,
     "metadata": {},
     "output_type": "execute_result"
    }
   ],
   "source": [
    "class_weights = compute_class_weight('balanced', classes = np.unique(y_train), y = np.ravel(y_train))\n",
    "class_weights"
   ]
  },
  {
   "cell_type": "markdown",
   "metadata": {},
   "source": [
    "#### Random searchh \n",
    "Random search is a tuning technique that attempts to compute the optimum values of hyperparameters."
   ]
  },
  {
   "cell_type": "code",
   "execution_count": 43,
   "metadata": {},
   "outputs": [
    {
     "data": {
      "text/plain": [
       "RandomizedSearchCV(cv=3,\n",
       "                   estimator=RandomForestClassifier(class_weight={0: 1.43631197,\n",
       "                                                                  1: 0.76700502}),\n",
       "                   n_jobs=-1,\n",
       "                   param_distributions={'max_depth': [5, 8, 15, 25, 30],\n",
       "                                        'min_samples_leaf': [1, 2, 5, 10],\n",
       "                                        'min_samples_split': [2, 5, 10, 15,\n",
       "                                                              100],\n",
       "                                        'n_estimators': [100, 150, 300, 500,\n",
       "                                                         800, 1200]},\n",
       "                   random_state=125)"
      ]
     },
     "execution_count": 43,
     "metadata": {},
     "output_type": "execute_result"
    }
   ],
   "source": [
    "rf = RandomForestClassifier( class_weight={0: 1.43631197 , 1:0.76700502})\n",
    "# Random search of parameters, using 3 fold cross validation, \n",
    "rf_classifier = RandomizedSearchCV(rf, param_grid, cv = 3, \n",
    "                  \n",
    "                                   n_jobs = -1, random_state = seed)\n",
    "\n",
    "\n",
    "rf_classifier.fit(X_train, y_train.values.ravel())"
   ]
  },
  {
   "cell_type": "code",
   "execution_count": 44,
   "metadata": {},
   "outputs": [
    {
     "name": "stdout",
     "output_type": "stream",
     "text": [
      "{'n_estimators': 300, 'min_samples_split': 15, 'min_samples_leaf': 1, 'max_depth': 30}\n",
      "RandomForestClassifier(class_weight={0: 1.43631197, 1: 0.76700502},\n",
      "                       max_depth=30, min_samples_split=15, n_estimators=300)\n"
     ]
    }
   ],
   "source": [
    "print(rf_classifier.best_params_)\n",
    "print(rf_classifier.best_estimator_)\n"
   ]
  },
  {
   "cell_type": "markdown",
   "metadata": {},
   "source": [
    "#### Confusion Matrix"
   ]
  },
  {
   "cell_type": "code",
   "execution_count": 48,
   "metadata": {},
   "outputs": [
    {
     "data": {
      "image/png": "[encoded data removed]",
      "text/plain": [
       "<Figure size 396x324 with 2 Axes>"
      ]
     },
     "metadata": {
      "needs_background": "light"
     },
     "output_type": "display_data"
    }
   ],
   "source": [
    "y_pred = rf_classifier.best_estimator_.predict(X_test)\n",
    "\n",
    "ac = accuracy_score(y_test,rf_classifier.best_estimator_.predict(X_test))\n",
    "#print('Accuracy is: ',ac)\n",
    "\n",
    "plt.figure(figsize=(5.5,4.5))\n",
    "\n",
    "cm_df = confusion_matrix(y_test,rf_classifier.best_estimator_.predict(X_test))\n",
    "cm_df = pd.DataFrame(cm_df,\n",
    "                     index = ['No action','Yes Action'], \n",
    "                     columns = ['No action','Yes Action'])\n",
    "sns.heatmap(cm_df,annot=True,fmt=\"d\")\n",
    "plt.title('Random Forest \\nAccuracy:{0:.3f}'.format(accuracy_score(y_test, rf_classifier.best_estimator_.predict(X_test))))\n",
    "plt.ylabel('True label')\n",
    "plt.xlabel('Predicted label')\n",
    "plt.savefig('rf_confusionmatrix.png')\n"
   ]
  },
  {
   "cell_type": "markdown",
   "metadata": {},
   "source": [
    "#### Feature importance"
   ]
  },
  {
   "cell_type": "code",
   "execution_count": 50,
   "metadata": {},
   "outputs": [
    {
     "data": {
      "image/png": "[encoded data removed]",
      "text/plain": [
       "<Figure size 432x576 with 1 Axes>"
      ]
     },
     "metadata": {
      "needs_background": "light"
     },
     "output_type": "display_data"
    }
   ],
   "source": [
    "feature_importances = list(zip(X_train, rf_classifier.best_estimator_.feature_importances_))\n",
    "# Then sort the feature importances by most important first\n",
    "feature_importances_ranked = sorted(feature_importances, key = lambda x: x[1], reverse = True)\n",
    "feature_names_20 = [i[0] for i in feature_importances_ranked[:20]]\n",
    "y_ticks = np.arange(0, len(feature_names_20))\n",
    "x_axis = [i[1] for i in feature_importances_ranked[:20]]\n",
    "plt.figure(figsize = (6, 8))\n",
    "\n",
    "plt.barh(feature_names_20, x_axis, color = 'g')   #horizontal barplot\n",
    "plt.title('Random Forest Feature \\n Feature Importance  (Top 20)',\n",
    "          fontdict= {'fontsize' : 18})\n",
    "plt.xlabel('Features',fontdict= {'fontsize' : 16})\n",
    "plt.show()"
   ]
  },
  {
   "cell_type": "code",
   "execution_count": 13,
   "metadata": {},
   "outputs": [],
   "source": [
    "imp = pd.read_csv('imp.csv')\n",
    "imp  = imp.sort_values('variable', ascending=True).reset_index(drop=True)\n",
    "\n",
    "rf = pd.DataFrame(feature_importances)\n",
    "rf.rename(columns={ rf.columns[0]: \"variable\" }, inplace = True)\n",
    "\n",
    "rf  = rf.sort_values('variable', ascending=True).reset_index(drop=True)\n",
    "\n",
    "final = pd.merge(imp, rf, left_index=True, right_index=True)\n",
    "\n",
    "final.rename(columns={ final.columns[4]: \"importance_rf\" }, inplace = True)\n",
    "final.rename(columns={ final.columns[0]: \"variable\" }, inplace = True)\n",
    "final = final.drop('variable_y', axis = 1)\n",
    "\n",
    "\n",
    "final.to_csv('imp.csv', index=False, encoding='utf-8')\n"
   ]
  },
  {
   "cell_type": "code",
   "execution_count": 47,
   "metadata": {},
   "outputs": [
    {
     "name": "stdout",
     "output_type": "stream",
     "text": [
      "              precision    recall  f1-score   support\n",
      "\n",
      "           0       0.58      0.57      0.57      2296\n",
      "           1       0.77      0.78      0.77      4298\n",
      "\n",
      "    accuracy                           0.70      6594\n",
      "   macro avg       0.67      0.67      0.67      6594\n",
      "weighted avg       0.70      0.70      0.70      6594\n",
      "\n"
     ]
    }
   ],
   "source": [
    "print(classification_report(y_test, rf_classifier.best_estimator_.predict(X_test)))"
   ]
  },
  {
   "cell_type": "markdown",
   "metadata": {},
   "source": [
    "#### ROC \n",
    "\n",
    "An ROC curve (receiver operating characteristic curve) is a graph showing the performance of a classification model at all classification thresholds."
   ]
  },
  {
   "cell_type": "code",
   "execution_count": 15,
   "metadata": {},
   "outputs": [
    {
     "name": "stdout",
     "output_type": "stream",
     "text": [
      "roc_auc_score for Random Forest - High Risk Perception:  0.7310398706634477\n"
     ]
    },
    {
     "data": {
      "image/png": "[encoded data removed]",
      "text/plain": [
       "<Figure size 720x720 with 1 Axes>"
      ]
     },
     "metadata": {
      "needs_background": "light"
     },
     "output_type": "display_data"
    }
   ],
   "source": [
    "y_score2 = rf_classifier.best_estimator_.predict_proba(X_test)[:,1]\n",
    "false_positive_rate2, true_positive_rate2, threshold2 = roc_curve(y_test, y_score2)\n",
    "print('roc_auc_score for Random Forest - High Risk Perception: ', roc_auc_score(y_test, y_score2))\n",
    "plt.subplots(1, figsize=(10,10))\n",
    "plt.title('Receiver Operating Characteristic - Random Forest - High Risk Perception')\n",
    "plt.plot(false_positive_rate2, true_positive_rate2)\n",
    "plt.plot([0, 1], ls=\"--\")\n",
    "plt.plot([0, 0], [1, 0] , c=\".7\"), plt.plot([1, 1] , c=\".7\")\n",
    "plt.ylabel('True Positive Rate')\n",
    "plt.xlabel('False Positive Rate')\n",
    "plt.show()"
   ]
  },
  {
   "cell_type": "markdown",
   "metadata": {},
   "source": [
    "### High Risk Perception\n",
    "\n",
    "In this part there is data of individuals who have a high Climate Change Risk Perception (q2 >= 6).\n",
    "I will predict pro-environmental behaviour (qb5). The predictors are: clusters and correlational class analysis of other questions about climate change, socio-demograpich variables. \n",
    "\n",
    "\n",
    "\n",
    "I repeate the same codes"
   ]
  },
  {
   "cell_type": "code",
   "execution_count": null,
   "metadata": {},
   "outputs": [],
   "source": [
    "cc_num = df1[['qb5', 'd1', 'd10','d11', 'country','d8','d25', 'd63','d7','cluster', 'cca']]\n",
    "cat_var =['d1','d10', 'country','d8','d25', 'd63','d7','cluster', 'cca']\n",
    "df_get_dummies = pd.get_dummies(  cc_num , columns = cat_var)\n",
    "\n",
    "\n",
    "\n",
    "X = df_get_dummies.drop('qb5',axis=1)\n",
    "y = df_get_dummies.loc[:, df_get_dummies.columns == 'qb5']\n",
    "seed = 123  # so that the result is reproducible\n",
    "X_train, X_test, y_train, y_test = train_test_split(X,y,test_size=0.30, random_state = seed,stratify=y)\n"
   ]
  },
  {
   "cell_type": "code",
   "execution_count": null,
   "metadata": {},
   "outputs": [],
   "source": [
    "c = y_test.groupby('qb5')['qb5'].count()\n",
    "c #unbalanced"
   ]
  },
  {
   "cell_type": "code",
   "execution_count": null,
   "metadata": {},
   "outputs": [],
   "source": [
    "class_weights = compute_class_weight('balanced', classes = np.unique(y_train), y = np.ravel(y_train))\n",
    "class_weights"
   ]
  },
  {
   "cell_type": "code",
   "execution_count": null,
   "metadata": {},
   "outputs": [],
   "source": [
    "# Use the random grid to search for best hyperparameters\n",
    "# First create the base model to tune\n",
    "rf = RandomForestClassifier(class_weight= {0: 1.56739773 , 1:0.73421448})\n",
    "# Random search of parameters, using 3 fold cross validation, \n",
    "rf_classifier = RandomizedSearchCV(rf, param_grid, cv = 3, \n",
    "                  \n",
    "                                   n_jobs = -1,random_state = seed)\n",
    "\n",
    "\n",
    "# Fit the random search model\n",
    "rf_classifier.fit(X_train, y_train.values.ravel())"
   ]
  },
  {
   "cell_type": "code",
   "execution_count": null,
   "metadata": {},
   "outputs": [],
   "source": [
    "print(rf_classifier.best_params_)\n",
    "print(rf_classifier.best_estimator_)\n"
   ]
  },
  {
   "cell_type": "code",
   "execution_count": null,
   "metadata": {},
   "outputs": [],
   "source": [
    "y_pred = rf_classifier.best_estimator_.predict(X_test)\n",
    "\n",
    "ac = accuracy_score(y_test,rf_classifier.best_estimator_.predict(X_test))\n",
    "print('Accuracy is: ',ac)\n",
    "\n",
    "#plt.figure(figsize=(5.5,4))\n",
    "\n",
    "cm_df = confusion_matrix(y_test,rf_classifier.best_estimator_.predict(X_test))\n",
    "cm_df = pd.DataFrame(cm_df,\n",
    "                     index = ['No action','Yes action'], \n",
    "                     columns = ['No action','Yes action'])\n",
    "sns.heatmap(cm_df,annot=True,fmt=\"d\")\n",
    "plt.title('Random Forest \\nAccuracy:{0:.3f}'.format(accuracy_score(y_test, rf_classifier.best_estimator_.predict(X_test))))\n",
    "plt.ylabel('True label')\n",
    "plt.xlabel('Predicted label')\n",
    "#plt.savefig('rf_confusionmatrix-df24.png')\n"
   ]
  },
  {
   "cell_type": "code",
   "execution_count": null,
   "metadata": {},
   "outputs": [],
   "source": [
    "\n",
    "feature_importances = list(zip(X_train, rf_classifier.best_estimator_.feature_importances_))\n",
    "feature_importances_ranked = sorted(feature_importances, key = lambda x: x[1], reverse = True)\n",
    "\n",
    "feature_names_20 = [i[0] for i in feature_importances_ranked[:20]]\n",
    "y_ticks = np.arange(0, len(feature_names_20))\n",
    "x_axis = [i[1] for i in feature_importances_ranked[:20]]\n",
    "plt.figure(figsize = (10, 14))\n",
    "plt.barh(feature_names_20, x_axis, color = 'g')   #horizontal barplot\n",
    "plt.title('Random Forest Feature Importance (Top 20) - High Risk Perception',\n",
    "          fontdict= {'fontsize' : 20})\n",
    "plt.xlabel('Features',fontdict= {'fontsize' : 16})\n",
    "plt.show()\n"
   ]
  },
  {
   "cell_type": "code",
   "execution_count": null,
   "metadata": {},
   "outputs": [],
   "source": [
    "imp = pd.read_csv('imp2.csv')\n",
    "imp  = imp.sort_values('variable', ascending=True).reset_index(drop=True)\n",
    "\n",
    "dt = pd.DataFrame(feature_importances)\n",
    "dt.rename(columns={ dt.columns[0]: \"variable\" }, inplace = True)\n",
    "\n",
    "dt  = dt.sort_values('variable', ascending=True).reset_index(drop=True)\n",
    "\n",
    "final = pd.merge(imp, dt, left_index=True, right_index=True)\n",
    "\n",
    "final.rename(columns={ final.columns[4]: \"importance_rf\" }, inplace = True)\n",
    "final.rename(columns={ final.columns[0]: \"variable\" }, inplace = True)\n",
    "final = final.drop('variable_y', axis = 1)\n",
    "\n",
    "final.to_csv('imp2.csv', index=False, encoding='utf-8')"
   ]
  },
  {
   "cell_type": "code",
   "execution_count": null,
   "metadata": {},
   "outputs": [],
   "source": [
    "print(classification_report(y_test, rf_classifier.best_estimator_.predict(X_test)))"
   ]
  },
  {
   "cell_type": "code",
   "execution_count": null,
   "metadata": {},
   "outputs": [],
   "source": [
    "y_score2 = rf_classifier.best_estimator_.predict_proba(X_test)[:,1]\n",
    "false_positive_rate2, true_positive_rate2, threshold2 = roc_curve(y_test, y_score2)\n",
    "print('roc_auc_score for Random Forest - High Risk Perception: ', roc_auc_score(y_test, y_score2))\n",
    "plt.subplots(1, figsize=(10,10))\n",
    "plt.title('Receiver Operating Characteristic -Random Forest - Low Risk Perception')\n",
    "plt.plot(false_positive_rate2, true_positive_rate2)\n",
    "plt.plot([0, 1], ls=\"--\")\n",
    "plt.plot([0, 0], [1, 0] , c=\".7\"), plt.plot([1, 1] , c=\".7\")\n",
    "plt.ylabel('True Positive Rate')\n",
    "plt.xlabel('False Positive Rate')\n",
    "plt.show()"
   ]
  },
  {
   "cell_type": "markdown",
   "metadata": {},
   "source": [
    "### Low Risk Perception\n",
    "\n",
    "\n",
    "In this part there is data of individuals who have a low Climate Change Risk Perception (q2 <= 5).\n",
    "I will predict pro-environmental behaviour (qb5). The predictors are: clusters and correlational class analysis of other questions about climate change, socio-demograpich variables. \n",
    "\n",
    "\n",
    "\n",
    "I repeate the same codes\n"
   ]
  },
  {
   "cell_type": "code",
   "execution_count": null,
   "metadata": {},
   "outputs": [],
   "source": [
    "\n",
    "cc_num = df2[['qb5', 'd1', 'd10','d11', 'country','d8','d25', 'd63','d7','cluster', 'cca']]\n",
    "\n",
    "cat_var =['d1','d10', 'country','d8','d25', 'd63','d7','cluster', 'cca']\n",
    "df_get_dummies = pd.get_dummies(  cc_num , columns = cat_var)\n",
    "\n",
    "\n",
    "\n",
    "X = df_get_dummies.drop('qb5',axis=1)\n",
    "y = df_get_dummies.loc[:, df_get_dummies.columns == 'qb5']\n",
    "seed = 123  # so that the result is reproducible\n",
    "X_train, X_test, y_train, y_test = train_test_split(X,y,test_size=0.30, random_state = seed,stratify=y)\n"
   ]
  },
  {
   "cell_type": "code",
   "execution_count": null,
   "metadata": {},
   "outputs": [],
   "source": [
    "c = y_test.groupby('qb5')['qb5'].count()\n",
    "c #balanced"
   ]
  },
  {
   "cell_type": "code",
   "execution_count": null,
   "metadata": {},
   "outputs": [],
   "source": [
    "class_weights = compute_class_weight('balanced', classes = np.unique(y_train), y = np.ravel(y_train))\n",
    "\n",
    "\n",
    "print(class_weights)"
   ]
  },
  {
   "cell_type": "code",
   "execution_count": null,
   "metadata": {},
   "outputs": [],
   "source": [
    "# Use the random grid to search for best hyperparameters\n",
    "# First create the base model to tune\n",
    "rf = RandomForestClassifier(class_weight= {0:0.9272727 , 1:1.08510638})\n",
    "\n",
    "# Random search of parameters, using 3 fold cross validation, \n",
    "# search across 100 different combinations, and use all available cores\n",
    "rf_classifier = RandomizedSearchCV(rf, param_grid, cv = 3, \n",
    "                  \n",
    "                                   n_jobs = -1,random_state = seed)\n",
    "\n",
    "\n",
    "# Fit the random search model\n",
    "rf_classifier.fit(X_train, y_train.values.ravel())\n",
    "\n"
   ]
  },
  {
   "cell_type": "code",
   "execution_count": null,
   "metadata": {},
   "outputs": [],
   "source": [
    "print(rf_classifier.best_params_)\n",
    "print(rf_classifier.best_estimator_)"
   ]
  },
  {
   "cell_type": "code",
   "execution_count": null,
   "metadata": {},
   "outputs": [],
   "source": [
    "\n",
    "y_pred = rf_classifier.best_estimator_.predict(X_test)\n",
    "\n",
    "\n",
    "ac = accuracy_score(y_test,rf_classifier.best_estimator_.predict(X_test))\n",
    "print('Accuracy is: ',ac)\n",
    "\n",
    "\n",
    "\n",
    "#plt.figure(figsize=(5.5,4))\n",
    "\n",
    "cm_df = confusion_matrix(y_test,rf_classifier.best_estimator_.predict(X_test))\n",
    "cm_df = pd.DataFrame(cm_df,\n",
    "                     index = ['no action','yes action '], \n",
    "                     columns =  ['no action','yes action'])\n",
    "sns.heatmap(cm_df,annot=True,fmt=\"d\")\n",
    "plt.title('Random Forest \\nAccuracy:{0:.3f}'.format(accuracy_score(y_test, rf_classifier.best_estimator_.predict(X_test))))\n",
    "plt.ylabel('True label')\n",
    "plt.xlabel('Predicted label')\n",
    "#plt.savefig('rf_confusionmatrix-df24.png')\n"
   ]
  },
  {
   "cell_type": "code",
   "execution_count": null,
   "metadata": {},
   "outputs": [],
   "source": [
    "print(classification_report(y_test, rf_classifier.best_estimator_.predict(X_test)))"
   ]
  },
  {
   "cell_type": "code",
   "execution_count": null,
   "metadata": {},
   "outputs": [],
   "source": [
    "feature_importances = list(zip(X_train, rf_classifier.best_estimator_.feature_importances_))\n",
    "# Then sort the feature importances by most important first\n",
    "feature_importances_ranked = sorted(feature_importances, key = lambda x: x[1], reverse = True)\n",
    "# Print out the feature and importances\n",
    "#[print('Feature: {:35} Importance: {}'.format(*pair)) for pair in feature_importances_ranked];\n",
    "# Plot the top 25 feature importance\n",
    "feature_names_20 = [i[0] for i in feature_importances_ranked[:20]]\n",
    "y_ticks = np.arange(0, len(feature_names_20))\n",
    "x_axis = [i[1] for i in feature_importances_ranked[:20]]\n",
    "plt.figure(figsize = (10, 14))\n",
    "plt.barh(feature_names_20, x_axis, color = 'g')   #horizontal barplot\n",
    "plt.title('Random Forest Feature Importance (Top 20) - Low Risk Perception',\n",
    "          fontdict= {'fontsize' : 20})\n",
    "#plt.xlabel('Features',fontdict= {'fontsize' : 16})\n",
    "plt.show()\n"
   ]
  },
  {
   "cell_type": "code",
   "execution_count": null,
   "metadata": {},
   "outputs": [],
   "source": [
    "imp = pd.read_csv('imp3.csv')\n",
    "imp  = imp.sort_values('variable', ascending=True).reset_index(drop=True)\n",
    "\n",
    "dt = pd.DataFrame(feature_importances)\n",
    "dt.rename(columns={ dt.columns[0]: \"variable\" }, inplace = True)\n",
    "\n",
    "dt  = dt.sort_values('variable', ascending=True).reset_index(drop=True)\n",
    "\n",
    "final = pd.merge(imp, dt, left_index=True, right_index=True)\n",
    "\n",
    "final.rename(columns={ final.columns[4]: \"importance_rf\" }, inplace = True)\n",
    "final.rename(columns={ final.columns[0]: \"variable\" }, inplace = True)\n",
    "final = final.drop('variable_y', axis = 1)\n",
    "\n",
    "final.to_csv('imp3.csv', index=False, encoding='utf-8')"
   ]
  },
  {
   "cell_type": "code",
   "execution_count": null,
   "metadata": {},
   "outputs": [],
   "source": [
    "y_score2 = rf_classifier.best_estimator_.predict_proba(X_test)[:,1]\n",
    "false_positive_rate2, true_positive_rate2, threshold2 = roc_curve(y_test, y_score2)\n",
    "print('roc_auc_score for Random Forest - Low Risk Perception: ', roc_auc_score(y_test, y_score2))\n",
    "plt.subplots(1, figsize=(10,10))\n",
    "plt.title('Receiver Operating Characteristic -Random Forest')\n",
    "plt.plot(false_positive_rate2, true_positive_rate2)\n",
    "plt.plot([0, 1], ls=\"--\")\n",
    "plt.plot([0, 0], [1, 0] , c=\".7\"), plt.plot([1, 1] , c=\".7\")\n",
    "plt.ylabel('True Positive Rate')\n",
    "plt.xlabel('False Positive Rate')\n",
    "plt.show()"
   ]
  },
  {
   "cell_type": "markdown",
   "metadata": {},
   "source": [
    "#### REFERENCES \n",
    "\n",
    "https://towardsdatascience.com/my-random-forest-classifier-cheat-sheet-in-python-fedb84f8cf4f\n",
    "\n",
    "https://towardsdatascience.com/hyperparameter-tuning-the-random-forest-in-python-using-scikit-learn-28d2aa77dd74\n",
    "\n",
    "https://towardsdatascience.com/my-random-forest-classifier-cheat-sheet-in-python-fedb84f8cf4f\n",
    "\n"
   ]
  },
  {
   "cell_type": "code",
   "execution_count": null,
   "metadata": {},
   "outputs": [],
   "source": []
  }
 ],
 "metadata": {
  "kernelspec": {
   "display_name": "Python 3",
   "language": "python",
   "name": "python3"
  },
  "language_info": {
   "codemirror_mode": {
    "name": "ipython",
    "version": 3
   },
   "file_extension": ".py",
   "mimetype": "text/x-python",
   "name": "python",
   "nbconvert_exporter": "python",
   "pygments_lexer": "ipython3",
   "version": "3.7.1"
  }
 },
 "nbformat": 4,
 "nbformat_minor": 2
}
